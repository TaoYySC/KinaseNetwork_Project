{
 "cells": [
  {
   "cell_type": "markdown",
   "id": "e54dae10-b9ec-4fe6-a7c7-0f0caa06f6f2",
   "metadata": {},
   "source": [
    "# import packages"
   ]
  },
  {
   "cell_type": "code",
   "execution_count": 1,
   "id": "a9ebdb1a-e219-4c80-b50f-86951c92d4ea",
   "metadata": {},
   "outputs": [],
   "source": [
    "import warnings\n",
    "warnings.filterwarnings('ignore')"
   ]
  },
  {
   "cell_type": "code",
   "execution_count": 2,
   "id": "a5c0b905-5662-481c-850d-77d7e6c6801e",
   "metadata": {},
   "outputs": [
    {
     "name": "stderr",
     "output_type": "stream",
     "text": [
      "2024-11-21 09:48:16.923253: I tensorflow/core/util/port.cc:153] oneDNN custom operations are on. You may see slightly different numerical results due to floating-point round-off errors from different computation orders. To turn them off, set the environment variable `TF_ENABLE_ONEDNN_OPTS=0`.\n",
      "2024-11-21 09:48:16.941879: E external/local_xla/xla/stream_executor/cuda/cuda_fft.cc:477] Unable to register cuFFT factory: Attempting to register factory for plugin cuFFT when one has already been registered\n",
      "WARNING: All log messages before absl::InitializeLog() is called are written to STDERR\n",
      "E0000 00:00:1732153696.963376  147526 cuda_dnn.cc:8310] Unable to register cuDNN factory: Attempting to register factory for plugin cuDNN when one has already been registered\n",
      "E0000 00:00:1732153696.969993  147526 cuda_blas.cc:1418] Unable to register cuBLAS factory: Attempting to register factory for plugin cuBLAS when one has already been registered\n",
      "2024-11-21 09:48:16.993200: I tensorflow/core/platform/cpu_feature_guard.cc:210] This TensorFlow binary is optimized to use available CPU instructions in performance-critical operations.\n",
      "To enable the following instructions: AVX2 AVX512F AVX512_VNNI FMA, in other operations, rebuild TensorFlow with the appropriate compiler flags.\n"
     ]
    }
   ],
   "source": [
    "import sys\n",
    "sys.path.append(\"src/\")\n",
    "from src import *"
   ]
  },
  {
   "cell_type": "markdown",
   "id": "0557b942-76b2-457f-a625-a861deb6876f",
   "metadata": {},
   "source": [
    "# data preprocess"
   ]
  },
  {
   "cell_type": "code",
   "execution_count": null,
   "id": "c6027f8e-6d47-40d3-ba0b-01dde03ae20f",
   "metadata": {},
   "outputs": [],
   "source": [
    "# data_pp = DataProcessor(exp_path=f\"./data/phos_MS_merged/{ct}/{ct}.feather\", \n",
    "#                         ksr_path=f\"data/KSR/prior_{ct}.tsv\", \n",
    "#                         output_path=f\"./data/preprocessed_data/{ct}\", \n",
    "#                         with_centering=False, quantile_range=(1, 99), unit_variance=False)\n",
    "# data, prior = data_pp.process_all()"
   ]
  },
  {
   "cell_type": "code",
   "execution_count": null,
   "id": "d04227ad-f5e5-4a13-84bb-6f3c1c86103e",
   "metadata": {},
   "outputs": [],
   "source": [
    "data.shape, prior.shape"
   ]
  },
  {
   "cell_type": "markdown",
   "id": "7457645a-c8cb-4293-989e-968f8d8001ba",
   "metadata": {},
   "source": [
    "# run"
   ]
  },
  {
   "cell_type": "code",
   "execution_count": 3,
   "id": "b7a77edf-71de-4322-8237-da1dd7b0854e",
   "metadata": {},
   "outputs": [
    {
     "data": {
      "text/plain": [
       "((274, 10287), (186, 10287))"
      ]
     },
     "execution_count": 3,
     "metadata": {},
     "output_type": "execute_result"
    }
   ],
   "source": [
    "ct = 'LA'\n",
    "\n",
    "data = pd.read_parquet(f\"data/preprocessed_data/{ct}/data.parquet\")\n",
    "prior = pd.read_parquet(f\"data/preprocessed_data/{ct}/prior.parquet\")\n",
    "\n",
    "data.shape, prior.shape"
   ]
  },
  {
   "cell_type": "code",
   "execution_count": null,
   "id": "7230900d-8e69-492f-9e71-b7952fe652a6",
   "metadata": {},
   "outputs": [],
   "source": [
    "dp_list = [0, 0.05, 0.1, 0.3, 0.5]\n",
    "\n",
    "dp1_list = [0.3, 0.5]\n",
    "\n",
    "len(dp_list)"
   ]
  },
  {
   "cell_type": "code",
   "execution_count": 5,
   "id": "2352a0ce-b2a2-4d3f-ab69-a274f06751ed",
   "metadata": {
    "scrolled": true
   },
   "outputs": [],
   "source": [
    "data\n",
    "data = np.array(data).flatten()\n",
    "percentile_80 = np.percentile(data, 80)"
   ]
  },
  {
   "cell_type": "code",
   "execution_count": null,
   "id": "79a8509b-d1ed-4b0e-b759-6699d0dc8e22",
   "metadata": {},
   "outputs": [],
   "source": [
    "import numpy as np\n",
    "import matplotlib.pyplot as plt\n",
    "import seaborn as sns\n",
    "\n",
    "for idx, (index, row) in enumerate(data.iterrows()):\n",
    "    if idx < 100  and idx > 90:  # 限制只显示前 10 个\n",
    "    # print(f\"index = {index}\")\n",
    "    # print(f\"row = {row}\")\n",
    "        plt.figure(figsize=(10, 6))\n",
    "        plt.hist(row.values, bins=30, alpha=0.6, color='g', edgecolor='black', density=True)\n",
    "        plt.title(f'Data Distribution (Histogram) - Index {index}', fontsize=16)\n",
    "        plt.xlabel('Value', fontsize=12)\n",
    "        plt.ylabel('Density', fontsize=12)\n",
    "        plt.grid(True)\n",
    "\n",
    "        plt.figure(figsize=(10, 6))\n",
    "        sns.kdeplot(row.values, shade=True, color='blue')\n",
    "        plt.title(f'Data Distribution (Density Plot) - Index {index}', fontsize=16)\n",
    "        plt.xlabel('Value', fontsize=12)\n",
    "        plt.ylabel('Density', fontsize=12)\n",
    "        plt.grid(True)\n",
    "\n",
    "plt.show()\n",
    "\n",
    "\n"
   ]
  },
  {
   "cell_type": "code",
   "execution_count": null,
   "id": "c679058b-3c48-437d-8859-5b176f93c880",
   "metadata": {},
   "outputs": [],
   "source": [
    "count = (data < 1.2).sum().sum()  \n",
    "total_elements = data.size\n",
    "\n",
    "percentage = (count / total_elements) * 100\n",
    "percentage"
   ]
  },
  {
   "cell_type": "code",
   "execution_count": null,
   "id": "c097fe83-20e0-4d5d-9fe8-d43c7e6bec8c",
   "metadata": {
    "scrolled": true
   },
   "outputs": [],
   "source": [
    "for dp1 in dp1_list:\n",
    "    for dp2 in dp_list:\n",
    "        print(f\"dp1: {dp1}, dp2: {dp2}\\n\")\n",
    "\n",
    "        fit_model(data, prior, output_path=f\"./result_{ct}_changeloss_threshold_1.2/dp1_{dp1}_dp2_{dp2}/\", \n",
    "                  data_val_size=0.3, batch_size=32, fraction_gs=0.2, \n",
    "                  num_epochs=200, cvs=5, num_epochs_refit=50, refit_iters=10, refit_resample=True, \n",
    "                  weight_decays=(-10, -1, 4), lr=1e-4, \n",
    "                  scheduler_class=torch.optim.lr_scheduler.CosineAnnealingLR, scheduler_kwargs={'T_max': 10}, \n",
    "                  optimizer_class=torch.optim.Adam, optimizerkw={}, optimizer_paramskw={},\n",
    "                  dropout_rate1=dp1, dropout_rate2=dp2, dropout_rate3=dp2, activation=ReLU0(),\n",
    "                  eps=torch.finfo(torch.float).eps, eps_factor=10, fill_zeroed=True, device='cuda:1')"
   ]
  },
  {
   "cell_type": "code",
   "execution_count": null,
   "id": "676a67af-5da0-4a17-b20d-fb24dc4be937",
   "metadata": {},
   "outputs": [
    {
     "name": "stdout",
     "output_type": "stream",
     "text": [
      "dp1: 0.05, dp2: 0\n",
      "\n",
      "percentile = 80,threshold = 1.1380871362160427\n",
      "Total number of KSRs: 93061, number of KSRs used to train: 74530, number of KSRs used to test: 18531\n",
      "\n",
      "cv: 0, weight_decay: 1e-10\n",
      "Epoch [200/200], Train Loss: 0.0100, Val Loss: 0.0106, Val R2: 0.9019\n",
      "\n",
      "cv: 0, weight_decay: 1e-10, refit: 0\n",
      "Epoch [50/50], Train Loss: 0.0358, Val Loss: 0.0342, Val R2: 0.6896\n",
      "\n",
      "cv: 0, weight_decay: 1e-10, refit: 1\n",
      "Epoch [50/50], Train Loss: 0.0391, Val Loss: 0.0397, Val R2: 0.6256\n",
      "\n",
      "cv: 0, weight_decay: 1e-10, refit: 2\n",
      "Epoch [50/50], Train Loss: 0.0342, Val Loss: 0.0347, Val R2: 0.6778\n",
      "\n",
      "cv: 0, weight_decay: 1e-10, refit: 3\n",
      "Epoch [50/50], Train Loss: 0.0295, Val Loss: 0.0288, Val R2: 0.7283\n",
      "\n",
      "cv: 0, weight_decay: 1e-10, refit: 4\n",
      "Epoch [50/50], Train Loss: 0.0286, Val Loss: 0.0275, Val R2: 0.7355\n",
      "\n",
      "cv: 0, weight_decay: 1e-10, refit: 5\n",
      "Epoch [50/50], Train Loss: 0.0272, Val Loss: 0.0283, Val R2: 0.7219\n",
      "\n",
      "cv: 0, weight_decay: 1e-10, refit: 6\n",
      "Epoch [50/50], Train Loss: 0.0269, Val Loss: 0.0274, Val R2: 0.7421\n",
      "\n",
      "cv: 0, weight_decay: 1e-10, refit: 7\n",
      "Epoch [50/50], Train Loss: 0.0271, Val Loss: 0.0273, Val R2: 0.7381\n",
      "\n",
      "cv: 0, weight_decay: 1e-10, refit: 8\n",
      "Epoch [50/50], Train Loss: 0.0265, Val Loss: 0.0281, Val R2: 0.7227\n",
      "\n",
      "cv: 0, weight_decay: 1e-10, refit: 9\n",
      "Epoch [50/50], Train Loss: 0.0266, Val Loss: 0.0275, Val R2: 0.7473\n",
      "\n",
      "cv: 0, weight_decay: 1e-07layer 3.\n",
      "Epoch [200/200], Train Loss: 0.0100, Val Loss: 0.0106, Val R2: 0.9019\n",
      "\n",
      "cv: 0, weight_decay: 1e-07, refit: 0\n",
      "Epoch [50/50], Train Loss: 0.0334, Val Loss: 0.0320, Val R2: 0.7089\n",
      "\n",
      "cv: 0, weight_decay: 1e-07, refit: 1\n",
      "Epoch [50/50], Train Loss: 0.0317, Val Loss: 0.0321, Val R2: 0.6967\n",
      "\n",
      "cv: 0, weight_decay: 1e-07, refit: 2\n",
      "Epoch [50/50], Train Loss: 0.0275, Val Loss: 0.0281, Val R2: 0.7391\n",
      "\n",
      "cv: 0, weight_decay: 1e-07, refit: 3\n",
      "Epoch [50/50], Train Loss: 0.0252, Val Loss: 0.0246, Val R2: 0.7673\n",
      "\n",
      "cv: 0, weight_decay: 1e-07, refit: 4\n",
      "Epoch [50/50], Train Loss: 0.0243, Val Loss: 0.0237, Val R2: 0.7727\n",
      "\n",
      "cv: 0, weight_decay: 1e-07, refit: 5\n",
      "Epoch [50/50], Train Loss: 0.0235, Val Loss: 0.0242, Val R2: 0.7616\n",
      "\n",
      "cv: 0, weight_decay: 1e-07, refit: 6\n",
      "Epoch [50/50], Train Loss: 0.0228, Val Loss: 0.0232, Val R2: 0.7816\n",
      "\n",
      "cv: 0, weight_decay: 1e-07, refit: 7\n",
      "Epoch [50/50], Train Loss: 0.0228, Val Loss: 0.0230, Val R2: 0.7793\n",
      "\n",
      "cv: 0, weight_decay: 1e-07, refit: 8\n",
      "Epoch [50/50], Train Loss: 0.0224, Val Loss: 0.0235, Val R2: 0.7680\n",
      "\n",
      "cv: 0, weight_decay: 1e-07, refit: 9\n",
      "Epoch [50/50], Train Loss: 0.0224, Val Loss: 0.0233, Val R2: 0.7865\n",
      "\n",
      "cv: 0, weight_decay: 0.0001ayer 3.\n",
      "Epoch [200/200], Train Loss: 0.0100, Val Loss: 0.0106, Val R2: 0.9014\n",
      "\n",
      "cv: 0, weight_decay: 0.0001, refit: 0\n",
      "Epoch [50/50], Train Loss: 0.0248, Val Loss: 0.0242, Val R2: 0.7803\n",
      "\n",
      "cv: 0, weight_decay: 0.0001, refit: 1\n",
      "Epoch [50/50], Train Loss: 0.0146, Val Loss: 0.0148, Val R2: 0.8601\n",
      "\n",
      "cv: 0, weight_decay: 0.0001, refit: 2\n",
      "Epoch [50/50], Train Loss: 0.0116, Val Loss: 0.0122, Val R2: 0.8872\n",
      "\n",
      "cv: 0, weight_decay: 0.0001, refit: 3\n",
      "Epoch [50/50], Train Loss: 0.0110, Val Loss: 0.0113, Val R2: 0.8934\n",
      "\n",
      "cv: 0, weight_decay: 0.0001, refit: 4\n",
      "Epoch [50/50], Train Loss: 0.0109, Val Loss: 0.0113, Val R2: 0.8920\n",
      "\n",
      "cv: 0, weight_decay: 0.0001, refit: 5\n",
      "Epoch [50/50], Train Loss: 0.0108, Val Loss: 0.0107, Val R2: 0.8952\n",
      "\n",
      "cv: 0, weight_decay: 0.0001, refit: 6\n",
      "Epoch [50/50], Train Loss: 0.0105, Val Loss: 0.0111, Val R2: 0.8954\n",
      "\n",
      "cv: 0, weight_decay: 0.0001, refit: 7\n",
      "Epoch [2/50], Train Loss: 0.0109, Val Loss: 0.0108, Val R2: 0.8965\r"
     ]
    }
   ],
   "source": [
    "dp1 = 0.05\n",
    "dp2 = 0\n",
    "print(f\"dp1: {dp1}, dp2: {dp2}\\n\")\n",
    "fit_model(data, prior, output_path=f\"./result_{ct}_percentile_test/dp1_{dp1}_dp2_{dp2}/\", \n",
    "          data_val_size=0.3, batch_size=32, fraction_gs=0.2, \n",
    "          num_epochs=200, cvs=5, num_epochs_refit=50, refit_iters=10, refit_resample=True, \n",
    "          weight_decays=(-10, -1, 4), lr=1e-4, \n",
    "          scheduler_class=torch.optim.lr_scheduler.CosineAnnealingLR, scheduler_kwargs={'T_max': 10}, \n",
    "          optimizer_class=torch.optim.Adam, optimizerkw={}, optimizer_paramskw={},\n",
    "          dropout_rate1=dp1, dropout_rate2=dp2, dropout_rate3=dp2, activation=ReLU0(),\n",
    "          eps=torch.finfo(torch.float).eps, eps_factor=10, fill_zeroed=True, device='cuda:0',alpha = 0.8,percentile = 80)"
   ]
  },
  {
   "cell_type": "code",
   "execution_count": null,
   "id": "0f385cb3-be1a-4d76-86fb-e705fcc4ff16",
   "metadata": {},
   "outputs": [],
   "source": []
  }
 ],
 "metadata": {
  "kernelspec": {
   "display_name": "Python 3 (ipykernel)",
   "language": "python",
   "name": "python3"
  },
  "language_info": {
   "codemirror_mode": {
    "name": "ipython",
    "version": 3
   },
   "file_extension": ".py",
   "mimetype": "text/x-python",
   "name": "python",
   "nbconvert_exporter": "python",
   "pygments_lexer": "ipython3",
   "version": "3.9.20"
  }
 },
 "nbformat": 4,
 "nbformat_minor": 5
}
