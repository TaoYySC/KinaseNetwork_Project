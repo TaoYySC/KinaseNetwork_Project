{
 "cells": [
  {
   "cell_type": "markdown",
   "id": "e54dae10-b9ec-4fe6-a7c7-0f0caa06f6f2",
   "metadata": {},
   "source": [
    "# import packages"
   ]
  },
  {
   "cell_type": "code",
   "execution_count": 1,
   "id": "a9ebdb1a-e219-4c80-b50f-86951c92d4ea",
   "metadata": {},
   "outputs": [],
   "source": [
    "import warnings\n",
    "warnings.filterwarnings('ignore')"
   ]
  },
  {
   "cell_type": "code",
   "execution_count": 2,
   "id": "a5c0b905-5662-481c-850d-77d7e6c6801e",
   "metadata": {},
   "outputs": [],
   "source": [
    "import sys\n",
    "sys.path.append(\"src/\")\n",
    "from src import *"
   ]
  },
  {
   "cell_type": "markdown",
   "id": "0557b942-76b2-457f-a625-a861deb6876f",
   "metadata": {},
   "source": [
    "# data preprocess"
   ]
  },
  {
   "cell_type": "code",
   "execution_count": null,
   "id": "c6027f8e-6d47-40d3-ba0b-01dde03ae20f",
   "metadata": {},
   "outputs": [],
   "source": [
    "# data_pp = DataProcessor(exp_path=f\"./data/phos_MS_merged/{ct}/{ct}.feather\", \n",
    "#                         ksr_path=f\"data/KSR/prior_{ct}.tsv\", \n",
    "#                         output_path=f\"./data/preprocessed_data/{ct}\", \n",
    "#                         with_centering=False, quantile_range=(1, 99), unit_variance=False)\n",
    "# data, prior = data_pp.process_all()"
   ]
  },
  {
   "cell_type": "code",
   "execution_count": null,
   "id": "d04227ad-f5e5-4a13-84bb-6f3c1c86103e",
   "metadata": {},
   "outputs": [],
   "source": [
    "data.shape, prior.shape"
   ]
  },
  {
   "cell_type": "markdown",
   "id": "7457645a-c8cb-4293-989e-968f8d8001ba",
   "metadata": {},
   "source": [
    "# run"
   ]
  },
  {
   "cell_type": "code",
   "execution_count": 3,
   "id": "b7a77edf-71de-4322-8237-da1dd7b0854e",
   "metadata": {},
   "outputs": [
    {
     "data": {
      "text/plain": [
       "((274, 10287), (186, 10287))"
      ]
     },
     "execution_count": 3,
     "metadata": {},
     "output_type": "execute_result"
    }
   ],
   "source": [
    "ct = 'LA'\n",
    "data = pd.read_parquet(f\"data/preprocessed_data/{ct}/data.parquet\")\n",
    "prior = pd.read_parquet(f\"data/preprocessed_data/{ct}/prior.parquet\")\n",
    "\n",
    "data.shape, prior.shape"
   ]
  },
  {
   "cell_type": "code",
   "execution_count": null,
   "id": "7230900d-8e69-492f-9e71-b7952fe652a6",
   "metadata": {},
   "outputs": [],
   "source": [
    "dp_list = [0, 0.05, 0.1, 0.3, 0.5]\n",
    "\n",
    "dp1_list = [0.3, 0.5]\n",
    "\n",
    "len(dp_list)"
   ]
  },
  {
   "cell_type": "code",
   "execution_count": null,
   "id": "2352a0ce-b2a2-4d3f-ab69-a274f06751ed",
   "metadata": {
    "scrolled": true
   },
   "outputs": [],
   "source": [
    "data"
   ]
  },
  {
   "cell_type": "code",
   "execution_count": null,
   "id": "79a8509b-d1ed-4b0e-b759-6699d0dc8e22",
   "metadata": {},
   "outputs": [],
   "source": [
    "import numpy as np\n",
    "import matplotlib.pyplot as plt\n",
    "import seaborn as sns\n",
    "\n",
    "for idx, (index, row) in enumerate(data.iterrows()):\n",
    "    if idx < 100  and idx > 90:  # 限制只显示前 10 个\n",
    "    # print(f\"index = {index}\")\n",
    "    # print(f\"row = {row}\")\n",
    "        plt.figure(figsize=(10, 6))\n",
    "        plt.hist(row.values, bins=30, alpha=0.6, color='g', edgecolor='black', density=True)\n",
    "        plt.title(f'Data Distribution (Histogram) - Index {index}', fontsize=16)\n",
    "        plt.xlabel('Value', fontsize=12)\n",
    "        plt.ylabel('Density', fontsize=12)\n",
    "        plt.grid(True)\n",
    "\n",
    "        plt.figure(figsize=(10, 6))\n",
    "        sns.kdeplot(row.values, shade=True, color='blue')\n",
    "        plt.title(f'Data Distribution (Density Plot) - Index {index}', fontsize=16)\n",
    "        plt.xlabel('Value', fontsize=12)\n",
    "        plt.ylabel('Density', fontsize=12)\n",
    "        plt.grid(True)\n",
    "\n",
    "plt.show()\n",
    "\n",
    "\n"
   ]
  },
  {
   "cell_type": "code",
   "execution_count": null,
   "id": "c679058b-3c48-437d-8859-5b176f93c880",
   "metadata": {},
   "outputs": [],
   "source": [
    "count = (data < 1.2).sum().sum()  \n",
    "total_elements = data.size\n",
    "\n",
    "percentage = (count / total_elements) * 100\n",
    "percentage"
   ]
  },
  {
   "cell_type": "code",
   "execution_count": null,
   "id": "c097fe83-20e0-4d5d-9fe8-d43c7e6bec8c",
   "metadata": {
    "scrolled": true
   },
   "outputs": [],
   "source": [
    "for dp1 in dp1_list:\n",
    "    for dp2 in dp_list:\n",
    "        print(f\"dp1: {dp1}, dp2: {dp2}\\n\")\n",
    "\n",
    "        fit_model(data, prior, output_path=f\"./result_{ct}_changeloss_threshold_1.2/dp1_{dp1}_dp2_{dp2}/\", \n",
    "                  data_val_size=0.3, batch_size=32, fraction_gs=0.2, \n",
    "                  num_epochs=200, cvs=5, num_epochs_refit=50, refit_iters=10, refit_resample=True, \n",
    "                  weight_decays=(-10, -1, 4), lr=1e-4, \n",
    "                  scheduler_class=torch.optim.lr_scheduler.CosineAnnealingLR, scheduler_kwargs={'T_max': 10}, \n",
    "                  optimizer_class=torch.optim.Adam, optimizerkw={}, optimizer_paramskw={},\n",
    "                  dropout_rate1=dp1, dropout_rate2=dp2, dropout_rate3=dp2, activation=ReLU0(),\n",
    "                  eps=torch.finfo(torch.float).eps, eps_factor=10, fill_zeroed=True, device='cuda:1')"
   ]
  },
  {
   "cell_type": "code",
   "execution_count": null,
   "id": "676a67af-5da0-4a17-b20d-fb24dc4be937",
   "metadata": {},
   "outputs": [
    {
     "name": "stdout",
     "output_type": "stream",
     "text": [
      "dp1: 0.05, dp2: 0\n",
      "\n",
      "Total number of KSRs: 93061, number of KSRs used to train: 74530, number of KSRs used to test: 18531\n",
      "\n",
      "cv: 0, weight_decay: 1e-10\n",
      "Epoch [200/200], Train Loss: 0.0125, Val Loss: 0.0133, Val R2: 0.8769\n",
      "\n",
      "cv: 0, weight_decay: 1e-10, refit: 0\n",
      "Epoch [50/50], Train Loss: 0.0139, Val Loss: 0.0142, Val R2: 0.8710\n",
      "\n",
      "cv: 0, weight_decay: 1e-10, refit: 1\n",
      "Epoch [50/50], Train Loss: 0.0127, Val Loss: 0.0127, Val R2: 0.8806\n",
      "\n",
      "cv: 0, weight_decay: 1e-10, refit: 2\n",
      "Epoch [50/50], Train Loss: 0.0118, Val Loss: 0.0119, Val R2: 0.8898\n",
      "\n",
      "cv: 0, weight_decay: 1e-10, refit: 3\n",
      "Epoch [50/50], Train Loss: 0.0114, Val Loss: 0.0114, Val R2: 0.8922\n",
      "\n",
      "cv: 0, weight_decay: 1e-10, refit: 4\n",
      "Epoch [50/50], Train Loss: 0.0110, Val Loss: 0.0116, Val R2: 0.8890\n",
      "\n",
      "cv: 0, weight_decay: 1e-10, refit: 5\n",
      "Epoch [50/50], Train Loss: 0.0111, Val Loss: 0.0106, Val R2: 0.8956\n",
      "\n",
      "cv: 0, weight_decay: 1e-10, refit: 6\n",
      "Epoch [50/50], Train Loss: 0.0107, Val Loss: 0.0110, Val R2: 0.8966\n",
      "\n",
      "cv: 0, weight_decay: 1e-10, refit: 7\n",
      "Epoch [50/50], Train Loss: 0.0107, Val Loss: 0.0107, Val R2: 0.8973\n",
      "\n",
      "cv: 0, weight_decay: 1e-10, refit: 8\n",
      "Epoch [50/50], Train Loss: 0.0106, Val Loss: 0.0107, Val R2: 0.8946\n",
      "\n",
      "cv: 0, weight_decay: 1e-10, refit: 9\n",
      "Epoch [50/50], Train Loss: 0.0104, Val Loss: 0.0111, Val R2: 0.8978\n",
      "\n",
      "cv: 0, weight_decay: 1e-07layer 3.\n",
      "Epoch [200/200], Train Loss: 0.0125, Val Loss: 0.0133, Val R2: 0.8770\n",
      "\n",
      "cv: 0, weight_decay: 1e-07, refit: 0\n",
      "Epoch [50/50], Train Loss: 0.0142, Val Loss: 0.0145, Val R2: 0.8682\n",
      "\n",
      "cv: 0, weight_decay: 1e-07, refit: 1\n",
      "Epoch [50/50], Train Loss: 0.0131, Val Loss: 0.0131, Val R2: 0.8764\n",
      "\n",
      "cv: 0, weight_decay: 1e-07, refit: 2\n",
      "Epoch [50/50], Train Loss: 0.0121, Val Loss: 0.0122, Val R2: 0.8866\n",
      "\n",
      "cv: 0, weight_decay: 1e-07, refit: 3\n",
      "Epoch [50/50], Train Loss: 0.0116, Val Loss: 0.0116, Val R2: 0.8902\n",
      "\n",
      "cv: 0, weight_decay: 1e-07, refit: 4\n",
      "Epoch [50/50], Train Loss: 0.0112, Val Loss: 0.0117, Val R2: 0.8874\n",
      "\n",
      "cv: 0, weight_decay: 1e-07, refit: 5\n",
      "Epoch [50/50], Train Loss: 0.0112, Val Loss: 0.0108, Val R2: 0.8938\n",
      "\n",
      "cv: 0, weight_decay: 1e-07, refit: 6\n",
      "Epoch [50/50], Train Loss: 0.0109, Val Loss: 0.0112, Val R2: 0.8949\n",
      "\n",
      "cv: 0, weight_decay: 1e-07, refit: 7\n",
      "Epoch [50/50], Train Loss: 0.0109, Val Loss: 0.0109, Val R2: 0.8958\n",
      "\n",
      "cv: 0, weight_decay: 1e-07, refit: 8\n",
      "Epoch [50/50], Train Loss: 0.0108, Val Loss: 0.0108, Val R2: 0.8928\n",
      "\n",
      "cv: 0, weight_decay: 1e-07, refit: 9\n",
      "Delete meta kinase 185 in layer 3.\r"
     ]
    }
   ],
   "source": [
    "dp1 = 0.05\n",
    "dp2 = 0\n",
    "print(f\"dp1: {dp1}, dp2: {dp2}\\n\")\n",
    "fit_model(data, prior, output_path=f\"./result_{ct}_alpha_0.6/dp1_{dp1}_dp2_{dp2}/\", \n",
    "          data_val_size=0.3, batch_size=32, fraction_gs=0.2, \n",
    "          num_epochs=200, cvs=5, num_epochs_refit=50, refit_iters=10, refit_resample=True, \n",
    "          weight_decays=(-10, -1, 4), lr=1e-4, \n",
    "          scheduler_class=torch.optim.lr_scheduler.CosineAnnealingLR, scheduler_kwargs={'T_max': 10}, \n",
    "          optimizer_class=torch.optim.Adam, optimizerkw={}, optimizer_paramskw={},\n",
    "          dropout_rate1=dp1, dropout_rate2=dp2, dropout_rate3=dp2, activation=ReLU0(),\n",
    "          eps=torch.finfo(torch.float).eps, eps_factor=10, fill_zeroed=True, device='cpu')"
   ]
  },
  {
   "cell_type": "code",
   "execution_count": null,
   "id": "0f385cb3-be1a-4d76-86fb-e705fcc4ff16",
   "metadata": {},
   "outputs": [],
   "source": []
  }
 ],
 "metadata": {
  "kernelspec": {
   "display_name": "Python 3 (ipykernel)",
   "language": "python",
   "name": "python3"
  },
  "language_info": {
   "codemirror_mode": {
    "name": "ipython",
    "version": 3
   },
   "file_extension": ".py",
   "mimetype": "text/x-python",
   "name": "python",
   "nbconvert_exporter": "python",
   "pygments_lexer": "ipython3",
   "version": "3.10.15"
  }
 },
 "nbformat": 4,
 "nbformat_minor": 5
}
