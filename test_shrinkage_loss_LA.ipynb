{
 "cells": [
  {
   "cell_type": "markdown",
   "id": "e54dae10-b9ec-4fe6-a7c7-0f0caa06f6f2",
   "metadata": {},
   "source": [
    "# import packages"
   ]
  },
  {
   "cell_type": "code",
   "execution_count": 2,
   "id": "a9ebdb1a-e219-4c80-b50f-86951c92d4ea",
   "metadata": {},
   "outputs": [],
   "source": [
    "import warnings\n",
    "warnings.filterwarnings('ignore')"
   ]
  },
  {
   "cell_type": "code",
   "execution_count": 3,
   "id": "a5c0b905-5662-481c-850d-77d7e6c6801e",
   "metadata": {},
   "outputs": [
    {
     "name": "stderr",
     "output_type": "stream",
     "text": [
      "2024-11-24 12:28:59.416797: I tensorflow/core/util/port.cc:153] oneDNN custom operations are on. You may see slightly different numerical results due to floating-point round-off errors from different computation orders. To turn them off, set the environment variable `TF_ENABLE_ONEDNN_OPTS=0`.\n",
      "2024-11-24 12:29:01.210626: E external/local_xla/xla/stream_executor/cuda/cuda_fft.cc:477] Unable to register cuFFT factory: Attempting to register factory for plugin cuFFT when one has already been registered\n",
      "WARNING: All log messages before absl::InitializeLog() is called are written to STDERR\n",
      "E0000 00:00:1732422541.463988  300907 cuda_dnn.cc:8310] Unable to register cuDNN factory: Attempting to register factory for plugin cuDNN when one has already been registered\n",
      "E0000 00:00:1732422541.536005  300907 cuda_blas.cc:1418] Unable to register cuBLAS factory: Attempting to register factory for plugin cuBLAS when one has already been registered\n",
      "2024-11-24 12:29:05.224912: I tensorflow/core/platform/cpu_feature_guard.cc:210] This TensorFlow binary is optimized to use available CPU instructions in performance-critical operations.\n",
      "To enable the following instructions: AVX2 AVX512F AVX512_VNNI FMA, in other operations, rebuild TensorFlow with the appropriate compiler flags.\n"
     ]
    }
   ],
   "source": [
    "import sys\n",
    "sys.path.append(\"src/\")\n",
    "from src import *"
   ]
  },
  {
   "cell_type": "code",
   "execution_count": 4,
   "id": "7e49b646-c6f4-49bc-b6a3-e406c34fb7ea",
   "metadata": {},
   "outputs": [],
   "source": [
    "import matplotlib.pyplot as plt\n",
    "import seaborn as sns\n",
    "import scipy.stats as stats\n",
    "from sklearn.metrics import mean_squared_error, mean_absolute_error"
   ]
  },
  {
   "cell_type": "code",
   "execution_count": 9,
   "id": "c9aaeabb-a34a-40ef-a5e5-59902e08d114",
   "metadata": {},
   "outputs": [],
   "source": [
    "ct = 'LA'"
   ]
  },
  {
   "cell_type": "markdown",
   "id": "0557b942-76b2-457f-a625-a861deb6876f",
   "metadata": {},
   "source": [
    "# load data"
   ]
  },
  {
   "cell_type": "code",
   "execution_count": 10,
   "id": "b7a77edf-71de-4322-8237-da1dd7b0854e",
   "metadata": {},
   "outputs": [
    {
     "data": {
      "text/plain": [
       "((274, 10287), (186, 10287))"
      ]
     },
     "execution_count": 10,
     "metadata": {},
     "output_type": "execute_result"
    }
   ],
   "source": [
    "data = pd.read_parquet(\"data/preprocessed_data/LA/data.parquet\")\n",
    "prior = pd.read_parquet(\"data/preprocessed_data/LA/prior.parquet\")\n",
    "\n",
    "data.shape, prior.shape"
   ]
  },
  {
   "cell_type": "code",
   "execution_count": 6,
   "id": "0f385cb3-be1a-4d76-86fb-e705fcc4ff16",
   "metadata": {},
   "outputs": [
    {
     "data": {
      "text/html": [
       "<div>\n",
       "<style scoped>\n",
       "    .dataframe tbody tr th:only-of-type {\n",
       "        vertical-align: middle;\n",
       "    }\n",
       "\n",
       "    .dataframe tbody tr th {\n",
       "        vertical-align: top;\n",
       "    }\n",
       "\n",
       "    .dataframe thead th {\n",
       "        text-align: right;\n",
       "    }\n",
       "</style>\n",
       "<table border=\"1\" class=\"dataframe\">\n",
       "  <thead>\n",
       "    <tr style=\"text-align: right;\">\n",
       "      <th></th>\n",
       "      <th>A0A068F7M9:S367</th>\n",
       "      <th>A0A068F7M9:S512</th>\n",
       "      <th>A0A068F7M9:S524</th>\n",
       "      <th>A0A068F7M9:S549</th>\n",
       "      <th>A0A068F7M9:T716</th>\n",
       "      <th>A0A087WTJ2:S221</th>\n",
       "      <th>A0A087WVQ6:S1020</th>\n",
       "      <th>A0A087WVQ6:S1498</th>\n",
       "      <th>A0A087WVQ6:S580</th>\n",
       "      <th>A0A087WVQ6:T109</th>\n",
       "      <th>...</th>\n",
       "      <th>Q9Y6W5:S90</th>\n",
       "      <th>Q9Y6W5:T129</th>\n",
       "      <th>Q9Y6X8:T37</th>\n",
       "      <th>Q9Y6X9:S615</th>\n",
       "      <th>Q9Y6X9:S743</th>\n",
       "      <th>Q9Y6X9:S779</th>\n",
       "      <th>Q9Y6Y8:S737</th>\n",
       "      <th>Q9Y6Y8:S926</th>\n",
       "      <th>U5Y3L1:S155</th>\n",
       "      <th>X6R2W0:S134</th>\n",
       "    </tr>\n",
       "  </thead>\n",
       "  <tbody>\n",
       "    <tr>\n",
       "      <th>CPT0089340003 Log Ratio_149</th>\n",
       "      <td>1.047565</td>\n",
       "      <td>0.783118</td>\n",
       "      <td>0.649302</td>\n",
       "      <td>0.690661</td>\n",
       "      <td>0.767478</td>\n",
       "      <td>0.762414</td>\n",
       "      <td>0.764757</td>\n",
       "      <td>0.660700</td>\n",
       "      <td>1.034898</td>\n",
       "      <td>0.455990</td>\n",
       "      <td>...</td>\n",
       "      <td>0.887867</td>\n",
       "      <td>1.036010</td>\n",
       "      <td>0.729925</td>\n",
       "      <td>1.082122</td>\n",
       "      <td>1.031876</td>\n",
       "      <td>1.044492</td>\n",
       "      <td>0.738653</td>\n",
       "      <td>1.038158</td>\n",
       "      <td>0.602009</td>\n",
       "      <td>0.881607</td>\n",
       "    </tr>\n",
       "    <tr>\n",
       "      <th>CPT0092930003 Log Ratio_149</th>\n",
       "      <td>0.500137</td>\n",
       "      <td>0.547046</td>\n",
       "      <td>0.947216</td>\n",
       "      <td>0.882483</td>\n",
       "      <td>0.335114</td>\n",
       "      <td>0.228938</td>\n",
       "      <td>0.366875</td>\n",
       "      <td>0.628819</td>\n",
       "      <td>0.810365</td>\n",
       "      <td>0.422767</td>\n",
       "      <td>...</td>\n",
       "      <td>0.185540</td>\n",
       "      <td>0.565761</td>\n",
       "      <td>0.285823</td>\n",
       "      <td>1.033015</td>\n",
       "      <td>0.460904</td>\n",
       "      <td>0.842771</td>\n",
       "      <td>0.262582</td>\n",
       "      <td>0.000000</td>\n",
       "      <td>0.014616</td>\n",
       "      <td>0.526053</td>\n",
       "    </tr>\n",
       "    <tr>\n",
       "      <th>CPT0015410003 Log Ratio_149</th>\n",
       "      <td>0.918508</td>\n",
       "      <td>0.801522</td>\n",
       "      <td>0.766290</td>\n",
       "      <td>0.812339</td>\n",
       "      <td>0.724348</td>\n",
       "      <td>0.712671</td>\n",
       "      <td>0.597658</td>\n",
       "      <td>0.474385</td>\n",
       "      <td>0.986271</td>\n",
       "      <td>0.571588</td>\n",
       "      <td>...</td>\n",
       "      <td>0.908982</td>\n",
       "      <td>0.596497</td>\n",
       "      <td>0.644382</td>\n",
       "      <td>1.004215</td>\n",
       "      <td>0.607443</td>\n",
       "      <td>0.802525</td>\n",
       "      <td>0.500067</td>\n",
       "      <td>0.503832</td>\n",
       "      <td>0.314962</td>\n",
       "      <td>0.621505</td>\n",
       "    </tr>\n",
       "    <tr>\n",
       "      <th>CPT0146980004 Log Ratio_149</th>\n",
       "      <td>0.959001</td>\n",
       "      <td>0.874682</td>\n",
       "      <td>0.881518</td>\n",
       "      <td>0.868674</td>\n",
       "      <td>0.766019</td>\n",
       "      <td>0.810464</td>\n",
       "      <td>0.770753</td>\n",
       "      <td>0.509552</td>\n",
       "      <td>1.123419</td>\n",
       "      <td>0.574716</td>\n",
       "      <td>...</td>\n",
       "      <td>0.755868</td>\n",
       "      <td>0.713305</td>\n",
       "      <td>0.600966</td>\n",
       "      <td>1.053564</td>\n",
       "      <td>0.680200</td>\n",
       "      <td>1.146830</td>\n",
       "      <td>0.702388</td>\n",
       "      <td>0.629706</td>\n",
       "      <td>0.520800</td>\n",
       "      <td>0.770326</td>\n",
       "    </tr>\n",
       "    <tr>\n",
       "      <th>CPT0148280004 Log Ratio_149</th>\n",
       "      <td>1.313036</td>\n",
       "      <td>1.176859</td>\n",
       "      <td>0.675898</td>\n",
       "      <td>0.662912</td>\n",
       "      <td>0.832604</td>\n",
       "      <td>0.956496</td>\n",
       "      <td>0.853418</td>\n",
       "      <td>0.996822</td>\n",
       "      <td>1.511787</td>\n",
       "      <td>0.715414</td>\n",
       "      <td>...</td>\n",
       "      <td>0.636236</td>\n",
       "      <td>1.047681</td>\n",
       "      <td>0.681784</td>\n",
       "      <td>1.140828</td>\n",
       "      <td>0.964662</td>\n",
       "      <td>1.113869</td>\n",
       "      <td>0.573968</td>\n",
       "      <td>0.555774</td>\n",
       "      <td>0.669904</td>\n",
       "      <td>1.023743</td>\n",
       "    </tr>\n",
       "    <tr>\n",
       "      <th>...</th>\n",
       "      <td>...</td>\n",
       "      <td>...</td>\n",
       "      <td>...</td>\n",
       "      <td>...</td>\n",
       "      <td>...</td>\n",
       "      <td>...</td>\n",
       "      <td>...</td>\n",
       "      <td>...</td>\n",
       "      <td>...</td>\n",
       "      <td>...</td>\n",
       "      <td>...</td>\n",
       "      <td>...</td>\n",
       "      <td>...</td>\n",
       "      <td>...</td>\n",
       "      <td>...</td>\n",
       "      <td>...</td>\n",
       "      <td>...</td>\n",
       "      <td>...</td>\n",
       "      <td>...</td>\n",
       "      <td>...</td>\n",
       "      <td>...</td>\n",
       "    </tr>\n",
       "    <tr>\n",
       "      <th>P035-1-1 Log Ratio.1_220</th>\n",
       "      <td>0.936772</td>\n",
       "      <td>0.964041</td>\n",
       "      <td>0.950927</td>\n",
       "      <td>0.878300</td>\n",
       "      <td>0.665921</td>\n",
       "      <td>0.633049</td>\n",
       "      <td>0.842088</td>\n",
       "      <td>0.809972</td>\n",
       "      <td>1.279244</td>\n",
       "      <td>0.833853</td>\n",
       "      <td>...</td>\n",
       "      <td>0.835350</td>\n",
       "      <td>0.900393</td>\n",
       "      <td>0.697705</td>\n",
       "      <td>1.122497</td>\n",
       "      <td>0.836496</td>\n",
       "      <td>1.064134</td>\n",
       "      <td>0.728403</td>\n",
       "      <td>0.556800</td>\n",
       "      <td>0.543195</td>\n",
       "      <td>0.467921</td>\n",
       "    </tr>\n",
       "    <tr>\n",
       "      <th>P035-2-1 Log Ratio.1_220</th>\n",
       "      <td>0.888104</td>\n",
       "      <td>0.788825</td>\n",
       "      <td>0.736147</td>\n",
       "      <td>0.547571</td>\n",
       "      <td>0.550981</td>\n",
       "      <td>0.632998</td>\n",
       "      <td>0.776044</td>\n",
       "      <td>0.805656</td>\n",
       "      <td>1.082459</td>\n",
       "      <td>0.415154</td>\n",
       "      <td>...</td>\n",
       "      <td>0.810267</td>\n",
       "      <td>1.018900</td>\n",
       "      <td>0.533015</td>\n",
       "      <td>1.355565</td>\n",
       "      <td>1.070307</td>\n",
       "      <td>1.178365</td>\n",
       "      <td>0.704099</td>\n",
       "      <td>0.601573</td>\n",
       "      <td>0.798102</td>\n",
       "      <td>0.515747</td>\n",
       "    </tr>\n",
       "    <tr>\n",
       "      <th>P036-1-1 Log Ratio.1_220</th>\n",
       "      <td>0.888256</td>\n",
       "      <td>0.888957</td>\n",
       "      <td>0.778622</td>\n",
       "      <td>0.635033</td>\n",
       "      <td>0.805963</td>\n",
       "      <td>0.764553</td>\n",
       "      <td>0.630435</td>\n",
       "      <td>0.874323</td>\n",
       "      <td>1.343411</td>\n",
       "      <td>0.988767</td>\n",
       "      <td>...</td>\n",
       "      <td>0.969403</td>\n",
       "      <td>0.763093</td>\n",
       "      <td>0.601525</td>\n",
       "      <td>1.156069</td>\n",
       "      <td>0.831897</td>\n",
       "      <td>0.994629</td>\n",
       "      <td>0.557162</td>\n",
       "      <td>0.529079</td>\n",
       "      <td>0.563003</td>\n",
       "      <td>0.506254</td>\n",
       "    </tr>\n",
       "    <tr>\n",
       "      <th>P036-2-1 Log Ratio.1_220</th>\n",
       "      <td>0.934346</td>\n",
       "      <td>0.755031</td>\n",
       "      <td>0.894372</td>\n",
       "      <td>0.933199</td>\n",
       "      <td>0.417880</td>\n",
       "      <td>0.703663</td>\n",
       "      <td>0.581529</td>\n",
       "      <td>0.502883</td>\n",
       "      <td>1.029381</td>\n",
       "      <td>0.418598</td>\n",
       "      <td>...</td>\n",
       "      <td>0.776275</td>\n",
       "      <td>0.591802</td>\n",
       "      <td>0.366062</td>\n",
       "      <td>1.058219</td>\n",
       "      <td>0.611812</td>\n",
       "      <td>0.933771</td>\n",
       "      <td>0.560203</td>\n",
       "      <td>0.473271</td>\n",
       "      <td>0.378923</td>\n",
       "      <td>0.577571</td>\n",
       "    </tr>\n",
       "    <tr>\n",
       "      <th>P099-2-1 Log Ratio.1_220</th>\n",
       "      <td>1.242138</td>\n",
       "      <td>0.808339</td>\n",
       "      <td>0.946592</td>\n",
       "      <td>0.937197</td>\n",
       "      <td>0.805268</td>\n",
       "      <td>0.362368</td>\n",
       "      <td>0.687673</td>\n",
       "      <td>0.655390</td>\n",
       "      <td>1.147438</td>\n",
       "      <td>0.604714</td>\n",
       "      <td>...</td>\n",
       "      <td>0.825025</td>\n",
       "      <td>0.943955</td>\n",
       "      <td>0.300535</td>\n",
       "      <td>0.909666</td>\n",
       "      <td>0.628031</td>\n",
       "      <td>0.907552</td>\n",
       "      <td>0.623033</td>\n",
       "      <td>0.858627</td>\n",
       "      <td>0.604256</td>\n",
       "      <td>0.631267</td>\n",
       "    </tr>\n",
       "  </tbody>\n",
       "</table>\n",
       "<p>274 rows × 10287 columns</p>\n",
       "</div>"
      ],
      "text/plain": [
       "                             A0A068F7M9:S367  A0A068F7M9:S512  \\\n",
       "CPT0089340003 Log Ratio_149         1.047565         0.783118   \n",
       "CPT0092930003 Log Ratio_149         0.500137         0.547046   \n",
       "CPT0015410003 Log Ratio_149         0.918508         0.801522   \n",
       "CPT0146980004 Log Ratio_149         0.959001         0.874682   \n",
       "CPT0148280004 Log Ratio_149         1.313036         1.176859   \n",
       "...                                      ...              ...   \n",
       "P035-1-1 Log Ratio.1_220            0.936772         0.964041   \n",
       "P035-2-1 Log Ratio.1_220            0.888104         0.788825   \n",
       "P036-1-1 Log Ratio.1_220            0.888256         0.888957   \n",
       "P036-2-1 Log Ratio.1_220            0.934346         0.755031   \n",
       "P099-2-1 Log Ratio.1_220            1.242138         0.808339   \n",
       "\n",
       "                             A0A068F7M9:S524  A0A068F7M9:S549  \\\n",
       "CPT0089340003 Log Ratio_149         0.649302         0.690661   \n",
       "CPT0092930003 Log Ratio_149         0.947216         0.882483   \n",
       "CPT0015410003 Log Ratio_149         0.766290         0.812339   \n",
       "CPT0146980004 Log Ratio_149         0.881518         0.868674   \n",
       "CPT0148280004 Log Ratio_149         0.675898         0.662912   \n",
       "...                                      ...              ...   \n",
       "P035-1-1 Log Ratio.1_220            0.950927         0.878300   \n",
       "P035-2-1 Log Ratio.1_220            0.736147         0.547571   \n",
       "P036-1-1 Log Ratio.1_220            0.778622         0.635033   \n",
       "P036-2-1 Log Ratio.1_220            0.894372         0.933199   \n",
       "P099-2-1 Log Ratio.1_220            0.946592         0.937197   \n",
       "\n",
       "                             A0A068F7M9:T716  A0A087WTJ2:S221  \\\n",
       "CPT0089340003 Log Ratio_149         0.767478         0.762414   \n",
       "CPT0092930003 Log Ratio_149         0.335114         0.228938   \n",
       "CPT0015410003 Log Ratio_149         0.724348         0.712671   \n",
       "CPT0146980004 Log Ratio_149         0.766019         0.810464   \n",
       "CPT0148280004 Log Ratio_149         0.832604         0.956496   \n",
       "...                                      ...              ...   \n",
       "P035-1-1 Log Ratio.1_220            0.665921         0.633049   \n",
       "P035-2-1 Log Ratio.1_220            0.550981         0.632998   \n",
       "P036-1-1 Log Ratio.1_220            0.805963         0.764553   \n",
       "P036-2-1 Log Ratio.1_220            0.417880         0.703663   \n",
       "P099-2-1 Log Ratio.1_220            0.805268         0.362368   \n",
       "\n",
       "                             A0A087WVQ6:S1020  A0A087WVQ6:S1498  \\\n",
       "CPT0089340003 Log Ratio_149          0.764757          0.660700   \n",
       "CPT0092930003 Log Ratio_149          0.366875          0.628819   \n",
       "CPT0015410003 Log Ratio_149          0.597658          0.474385   \n",
       "CPT0146980004 Log Ratio_149          0.770753          0.509552   \n",
       "CPT0148280004 Log Ratio_149          0.853418          0.996822   \n",
       "...                                       ...               ...   \n",
       "P035-1-1 Log Ratio.1_220             0.842088          0.809972   \n",
       "P035-2-1 Log Ratio.1_220             0.776044          0.805656   \n",
       "P036-1-1 Log Ratio.1_220             0.630435          0.874323   \n",
       "P036-2-1 Log Ratio.1_220             0.581529          0.502883   \n",
       "P099-2-1 Log Ratio.1_220             0.687673          0.655390   \n",
       "\n",
       "                             A0A087WVQ6:S580  A0A087WVQ6:T109  ...  \\\n",
       "CPT0089340003 Log Ratio_149         1.034898         0.455990  ...   \n",
       "CPT0092930003 Log Ratio_149         0.810365         0.422767  ...   \n",
       "CPT0015410003 Log Ratio_149         0.986271         0.571588  ...   \n",
       "CPT0146980004 Log Ratio_149         1.123419         0.574716  ...   \n",
       "CPT0148280004 Log Ratio_149         1.511787         0.715414  ...   \n",
       "...                                      ...              ...  ...   \n",
       "P035-1-1 Log Ratio.1_220            1.279244         0.833853  ...   \n",
       "P035-2-1 Log Ratio.1_220            1.082459         0.415154  ...   \n",
       "P036-1-1 Log Ratio.1_220            1.343411         0.988767  ...   \n",
       "P036-2-1 Log Ratio.1_220            1.029381         0.418598  ...   \n",
       "P099-2-1 Log Ratio.1_220            1.147438         0.604714  ...   \n",
       "\n",
       "                             Q9Y6W5:S90  Q9Y6W5:T129  Q9Y6X8:T37  Q9Y6X9:S615  \\\n",
       "CPT0089340003 Log Ratio_149    0.887867     1.036010    0.729925     1.082122   \n",
       "CPT0092930003 Log Ratio_149    0.185540     0.565761    0.285823     1.033015   \n",
       "CPT0015410003 Log Ratio_149    0.908982     0.596497    0.644382     1.004215   \n",
       "CPT0146980004 Log Ratio_149    0.755868     0.713305    0.600966     1.053564   \n",
       "CPT0148280004 Log Ratio_149    0.636236     1.047681    0.681784     1.140828   \n",
       "...                                 ...          ...         ...          ...   \n",
       "P035-1-1 Log Ratio.1_220       0.835350     0.900393    0.697705     1.122497   \n",
       "P035-2-1 Log Ratio.1_220       0.810267     1.018900    0.533015     1.355565   \n",
       "P036-1-1 Log Ratio.1_220       0.969403     0.763093    0.601525     1.156069   \n",
       "P036-2-1 Log Ratio.1_220       0.776275     0.591802    0.366062     1.058219   \n",
       "P099-2-1 Log Ratio.1_220       0.825025     0.943955    0.300535     0.909666   \n",
       "\n",
       "                             Q9Y6X9:S743  Q9Y6X9:S779  Q9Y6Y8:S737  \\\n",
       "CPT0089340003 Log Ratio_149     1.031876     1.044492     0.738653   \n",
       "CPT0092930003 Log Ratio_149     0.460904     0.842771     0.262582   \n",
       "CPT0015410003 Log Ratio_149     0.607443     0.802525     0.500067   \n",
       "CPT0146980004 Log Ratio_149     0.680200     1.146830     0.702388   \n",
       "CPT0148280004 Log Ratio_149     0.964662     1.113869     0.573968   \n",
       "...                                  ...          ...          ...   \n",
       "P035-1-1 Log Ratio.1_220        0.836496     1.064134     0.728403   \n",
       "P035-2-1 Log Ratio.1_220        1.070307     1.178365     0.704099   \n",
       "P036-1-1 Log Ratio.1_220        0.831897     0.994629     0.557162   \n",
       "P036-2-1 Log Ratio.1_220        0.611812     0.933771     0.560203   \n",
       "P099-2-1 Log Ratio.1_220        0.628031     0.907552     0.623033   \n",
       "\n",
       "                             Q9Y6Y8:S926  U5Y3L1:S155  X6R2W0:S134  \n",
       "CPT0089340003 Log Ratio_149     1.038158     0.602009     0.881607  \n",
       "CPT0092930003 Log Ratio_149     0.000000     0.014616     0.526053  \n",
       "CPT0015410003 Log Ratio_149     0.503832     0.314962     0.621505  \n",
       "CPT0146980004 Log Ratio_149     0.629706     0.520800     0.770326  \n",
       "CPT0148280004 Log Ratio_149     0.555774     0.669904     1.023743  \n",
       "...                                  ...          ...          ...  \n",
       "P035-1-1 Log Ratio.1_220        0.556800     0.543195     0.467921  \n",
       "P035-2-1 Log Ratio.1_220        0.601573     0.798102     0.515747  \n",
       "P036-1-1 Log Ratio.1_220        0.529079     0.563003     0.506254  \n",
       "P036-2-1 Log Ratio.1_220        0.473271     0.378923     0.577571  \n",
       "P099-2-1 Log Ratio.1_220        0.858627     0.604256     0.631267  \n",
       "\n",
       "[274 rows x 10287 columns]"
      ]
     },
     "execution_count": 6,
     "metadata": {},
     "output_type": "execute_result"
    }
   ],
   "source": [
    "data"
   ]
  },
  {
   "cell_type": "markdown",
   "id": "c98cf048-4c14-4eb6-a229-314edf4136f5",
   "metadata": {},
   "source": [
    "# raw model"
   ]
  },
  {
   "cell_type": "code",
   "execution_count": 11,
   "id": "2cfdef98-5997-4014-a6ec-c541b3d93d52",
   "metadata": {},
   "outputs": [
    {
     "data": {
      "text/html": [
       "<div>\n",
       "<style scoped>\n",
       "    .dataframe tbody tr th:only-of-type {\n",
       "        vertical-align: middle;\n",
       "    }\n",
       "\n",
       "    .dataframe tbody tr th {\n",
       "        vertical-align: top;\n",
       "    }\n",
       "\n",
       "    .dataframe thead th {\n",
       "        text-align: right;\n",
       "    }\n",
       "</style>\n",
       "<table border=\"1\" class=\"dataframe\">\n",
       "  <thead>\n",
       "    <tr style=\"text-align: right;\">\n",
       "      <th></th>\n",
       "      <th>weight_decay</th>\n",
       "      <th>drop_p_prior</th>\n",
       "      <th>drop_p_kki</th>\n",
       "      <th>AUPRC</th>\n",
       "      <th>R2</th>\n",
       "    </tr>\n",
       "  </thead>\n",
       "  <tbody>\n",
       "    <tr>\n",
       "      <th>0</th>\n",
       "      <td>1e-10</td>\n",
       "      <td>0</td>\n",
       "      <td>0</td>\n",
       "      <td>0.225631</td>\n",
       "      <td>0.777783</td>\n",
       "    </tr>\n",
       "  </tbody>\n",
       "</table>\n",
       "</div>"
      ],
      "text/plain": [
       "  weight_decay  drop_p_prior  drop_p_kki     AUPRC        R2\n",
       "0        1e-10             0           0  0.225631  0.777783"
      ]
     },
     "execution_count": 11,
     "metadata": {},
     "output_type": "execute_result"
    }
   ],
   "source": [
    "l2_map = {}\n",
    "l2_map[1.000000013351432e-10] = '1e-10'\n",
    "l2_map[1.0000000116860974e-07] = '1e-07'\n",
    "l2_map[9.999999747378752e-05] = '1e-04'\n",
    "l2_map[0.10000000149011612] = '1e-01'\n",
    "\n",
    "perf_raw = pd.read_csv('result_LA_no_threshold/dp1_0_dp2_0/performance.csv', index_col=0)\n",
    "perf_raw['weight_decay'] = perf_raw['weight_decay'].astype(np.float32).map(l2_map)\n",
    "perf_raw = perf_raw[(perf_raw['weight_decay'] == '1e-10') & (perf_raw['network_type']=='cpd')]\n",
    "perf_raw.index = range(perf_raw.shape[0])\n",
    "\n",
    "report_raw = perf_raw[['weight_decay', 'drop_p_prior', 'drop_p_kki', 'cv']].drop_duplicates().copy()\n",
    "report_raw.index = range(report_raw.shape[0])\n",
    "\n",
    "report_raw['AUPRC'] = 0.0\n",
    "report_raw['R2'] = 0.0\n",
    "for index, row in report_raw.iterrows():\n",
    "    tmp = perf_raw.loc[(perf_raw['weight_decay']==row['weight_decay'])&\\\n",
    "                      (perf_raw['drop_p_prior']==row['drop_p_prior'])&\\\n",
    "                      (perf_raw['drop_p_kki']==row['drop_p_kki'])&\\\n",
    "                      (perf_raw['cv']==row['cv'])]\n",
    "    # 在每个超参数组合下，每次交叉验证中，选取fit/refit（11个）模型R2最高时的AUPRC和R2作为这个超参数组合在这次交叉验证中的性能\n",
    "    max_r2_row = tmp.loc[tmp['val_r2'].idxmax()]\n",
    "    report_raw.at[index, 'AUPRC'] = max_r2_row['AUPRC']\n",
    "    report_raw.at[index, 'R2'] = max_r2_row['val_r2']\n",
    "\n",
    "# 计算所有交叉验证的平均值代表每个超参数组合的性能\n",
    "report_raw = report_raw.groupby(['weight_decay', 'drop_p_prior', 'drop_p_kki'])[['AUPRC', 'R2']].mean().reset_index()\n",
    "\n",
    "report_raw"
   ]
  },
  {
   "cell_type": "code",
   "execution_count": 12,
   "id": "eda0a609-fec4-4fcf-b65b-70d2a1790d26",
   "metadata": {},
   "outputs": [
    {
     "data": {
      "text/plain": [
       "KinaseNet(\n",
       "  (activation): ReLU0()\n",
       "  (prior): Encoder(\n",
       "    (dropout): Identity()\n",
       "    (activation): ReLU0()\n",
       "    (fc): Linear(in_features=10287, out_features=186, bias=False)\n",
       "  )\n",
       "  (kki): LatentLayer(\n",
       "    (dropout): Identity()\n",
       "    (activation): ReLU0()\n",
       "    (fc): Linear(in_features=186, out_features=186, bias=False)\n",
       "  )\n",
       "  (ksr): Decoder(\n",
       "    (dropout): Identity()\n",
       "    (activation): ReLU0()\n",
       "    (fc): Linear(in_features=186, out_features=10287, bias=False)\n",
       "  )\n",
       ")"
      ]
     },
     "execution_count": 12,
     "metadata": {},
     "output_type": "execute_result"
    }
   ],
   "source": [
    "raw_model = torch.load('result_LA_no_threshold/dp1_0_dp2_0/model/cv4_wd9.999999999999999e-11_refit9.pth')\n",
    "raw_model.eval()"
   ]
  },
  {
   "cell_type": "code",
   "execution_count": 14,
   "id": "3ec0fbee-c643-4c8a-9eef-1c45461ce5ce",
   "metadata": {},
   "outputs": [],
   "source": [
    "out_raw = raw_model(torch.tensor(np.array(data)).to(raw_model.prior.fc.weight.dtype)).detach().numpy()"
   ]
  },
  {
   "cell_type": "code",
   "execution_count": 15,
   "id": "ee27e916-1a51-4b5c-ae64-80fce2221c0c",
   "metadata": {},
   "outputs": [
    {
     "data": {
      "text/plain": [
       "Text(0.5, 1.0, 'Raw model')"
      ]
     },
     "execution_count": 15,
     "metadata": {},
     "output_type": "execute_result"
    },
    {
     "data": {
      "image/png": "[encoded data removed]",
      "text/plain": [
       "<Figure size 500x500 with 1 Axes>"
      ]
     },
     "metadata": {},
     "output_type": "display_data"
    }
   ],
   "source": [
    "raw_data_flatten = np.array(data).flatten()\n",
    "raw_out_flatten = out_raw.flatten()\n",
    "\n",
    "plt.figure(figsize=(5,5))\n",
    "plt.scatter(x=raw_data_flatten, y=raw_out_flatten, s=1)\n",
    "plt.xlim(-0.1, 4.1)\n",
    "plt.ylim(-0.1, 4.1)\n",
    "plt.xlabel('Actual')\n",
    "plt.ylabel('Reconstructed')\n",
    "plt.text(0, 3.8, 'prearsonr = 0.89')\n",
    "plt.text(0, 3.5, 'prearsonr_samll = 0.67')\n",
    "plt.title('Raw model')"
   ]
  },
  {
   "cell_type": "code",
   "execution_count": 16,
   "id": "78d38590-192f-4d6a-b33b-6e985669bd7e",
   "metadata": {},
   "outputs": [
    {
     "data": {
      "text/plain": [
       "PearsonRResult(statistic=np.float64(0.8880637020624054), pvalue=np.float64(0.0))"
      ]
     },
     "execution_count": 16,
     "metadata": {},
     "output_type": "execute_result"
    }
   ],
   "source": [
    "stats.pearsonr(raw_data_flatten, raw_out_flatten)"
   ]
  },
  {
   "cell_type": "code",
   "execution_count": 17,
   "id": "99e94b95-669f-4348-b88b-71948d628e18",
   "metadata": {},
   "outputs": [
    {
     "data": {
      "text/plain": [
       "PearsonRResult(statistic=np.float64(0.6716777194483368), pvalue=np.float64(0.0))"
      ]
     },
     "execution_count": 17,
     "metadata": {},
     "output_type": "execute_result"
    }
   ],
   "source": [
    "stats.pearsonr(\n",
    "    raw_data_flatten[raw_data_flatten < np.percentile(raw_data_flatten, 50)], \n",
    "    raw_out_flatten[raw_data_flatten < np.percentile(raw_data_flatten, 50)]\n",
    ")"
   ]
  },
  {
   "cell_type": "markdown",
   "id": "eba7bf06-00c5-4e7c-b754-859d06574527",
   "metadata": {},
   "source": [
    "# shrinkage loss model compare"
   ]
  },
  {
   "cell_type": "code",
   "execution_count": 25,
   "id": "89dc6dde-c3c9-4af3-96ff-f5b0df11bfd5",
   "metadata": {},
   "outputs": [
    {
     "data": {
      "text/html": [
       "<div>\n",
       "<style scoped>\n",
       "    .dataframe tbody tr th:only-of-type {\n",
       "        vertical-align: middle;\n",
       "    }\n",
       "\n",
       "    .dataframe tbody tr th {\n",
       "        vertical-align: top;\n",
       "    }\n",
       "\n",
       "    .dataframe thead th {\n",
       "        text-align: right;\n",
       "    }\n",
       "</style>\n",
       "<table border=\"1\" class=\"dataframe\">\n",
       "  <thead>\n",
       "    <tr style=\"text-align: right;\">\n",
       "      <th></th>\n",
       "      <th>weight_decay</th>\n",
       "      <th>drop_p_prior</th>\n",
       "      <th>drop_p_kki</th>\n",
       "      <th>AUPRC</th>\n",
       "      <th>R2</th>\n",
       "    </tr>\n",
       "  </thead>\n",
       "  <tbody>\n",
       "    <tr>\n",
       "      <th>0</th>\n",
       "      <td>1.000000e-10</td>\n",
       "      <td>0</td>\n",
       "      <td>0</td>\n",
       "      <td>0.216131</td>\n",
       "      <td>0.889464</td>\n",
       "    </tr>\n",
       "  </tbody>\n",
       "</table>\n",
       "</div>"
      ],
      "text/plain": [
       "   weight_decay  drop_p_prior  drop_p_kki     AUPRC        R2\n",
       "0  1.000000e-10             0           0  0.216131  0.889464"
      ]
     },
     "execution_count": 25,
     "metadata": {},
     "output_type": "execute_result"
    }
   ],
   "source": [
    "perf_skloss = pd.read_csv('result_LA_shrinkage_loss_test/dp1_0_dp2_0/performance_tmp.csv', index_col=0)\n",
    "perf_skloss = perf_skloss[(perf_skloss['weight_decay'] == 1e-10) & (perf_skloss['network_type']=='cpd')]\n",
    "perf_skloss.index = range(perf_skloss.shape[0])\n",
    "\n",
    "report_skloss = perf_skloss[['weight_decay', 'drop_p_prior', 'drop_p_kki', 'cv']].drop_duplicates().copy()\n",
    "report_skloss.index = range(report_skloss.shape[0])\n",
    "\n",
    "report_skloss['AUPRC'] = 0.0\n",
    "report_skloss['R2'] = 0.0\n",
    "for index, row in report_skloss.iterrows():\n",
    "    tmp = perf_skloss.loc[(perf_skloss['weight_decay']==row['weight_decay'])&\\\n",
    "                      (perf_skloss['drop_p_prior']==row['drop_p_prior'])&\\\n",
    "                      (perf_skloss['drop_p_kki']==row['drop_p_kki'])&\\\n",
    "                      (perf_skloss['cv']==row['cv'])]\n",
    "    # 在每个超参数组合下，每次交叉验证中，选取fit/refit（11个）模型R2最高时的AUPRC和R2作为这个超参数组合在这次交叉验证中的性能\n",
    "    max_r2_row = tmp.loc[tmp['val_r2'].idxmax()]\n",
    "    report_skloss.at[index, 'AUPRC'] = max_r2_row['AUPRC']\n",
    "    report_skloss.at[index, 'R2'] = max_r2_row['val_r2']\n",
    "# 计算所有交叉验证的平均值代表每个超参数组合的性能\n",
    "report_skloss = report_skloss.groupby(['weight_decay', 'drop_p_prior', 'drop_p_kki'])[['AUPRC', 'R2']].mean().reset_index()\n",
    "\n",
    "report_skloss"
   ]
  },
  {
   "cell_type": "code",
   "execution_count": 8,
   "id": "28d1a0b3-ffc0-40ef-9133-ba2e583cb5bc",
   "metadata": {},
   "outputs": [
    {
     "data": {
      "text/plain": [
       "KinaseNet(\n",
       "  (activation): ReLU0()\n",
       "  (prior): Encoder(\n",
       "    (dropout): Identity()\n",
       "    (activation): ReLU0()\n",
       "    (fc): Linear(in_features=10287, out_features=186, bias=False)\n",
       "  )\n",
       "  (kki): LatentLayer(\n",
       "    (dropout): Identity()\n",
       "    (activation): ReLU0()\n",
       "    (fc): Linear(in_features=186, out_features=186, bias=False)\n",
       "  )\n",
       "  (ksr): Decoder(\n",
       "    (dropout): Identity()\n",
       "    (activation): ReLU0()\n",
       "    (fc): Linear(in_features=186, out_features=10287, bias=False)\n",
       "  )\n",
       ")"
      ]
     },
     "execution_count": 8,
     "metadata": {},
     "output_type": "execute_result"
    }
   ],
   "source": [
    "mod_model_skloss = torch.load('result_LA_shrinkage_loss_test/dp1_0_dp2_0/model/cv0_wd1e-10_refit9.pth')\n",
    "mod_model_skloss.eval()"
   ]
  },
  {
   "cell_type": "code",
   "execution_count": 19,
   "id": "e40983e8-4c13-467a-9aea-a9d27f240de6",
   "metadata": {},
   "outputs": [],
   "source": [
    "out_mod_skloss = mod_model_skloss(torch.tensor(np.array(data)).to(raw_model.prior.fc.weight.dtype)).detach().numpy()"
   ]
  },
  {
   "cell_type": "code",
   "execution_count": 24,
   "id": "2310e288-42a8-4f7c-bccf-4f6e254116e2",
   "metadata": {},
   "outputs": [
    {
     "data": {
      "text/plain": [
       "Text(0.5, 1.0, 'shrinkage loss(a = 10, c = 0.2)')"
      ]
     },
     "execution_count": 24,
     "metadata": {},
     "output_type": "execute_result"
    },
    {
     "data": {
      "image/png": "[encoded data removed]",
      "text/plain": [
       "<Figure size 500x500 with 1 Axes>"
      ]
     },
     "metadata": {},
     "output_type": "display_data"
    }
   ],
   "source": [
    "raw_data_flatten = np.array(data).flatten()\n",
    "mod_out_skloss_flatten = out_mod_skloss.flatten()\n",
    "\n",
    "plt.figure(figsize=(5,5))\n",
    "plt.scatter(x=raw_data_flatten, y=mod_out_skloss_flatten, s=1)\n",
    "plt.xlim(-0.1, 4.1)\n",
    "plt.ylim(-0.1, 4.1)\n",
    "plt.xlabel('Actual')\n",
    "plt.ylabel('Reconstructed')\n",
    "plt.text(0, 3.8, 'prearsonr = 0.90')\n",
    "plt.text(0, 3.5, 'prearsonr_samll = 0.72')\n",
    "plt.title('shrinkage loss(a = 10, c = 0.2)')"
   ]
  },
  {
   "cell_type": "code",
   "execution_count": 21,
   "id": "a13ebc74-bed0-4e1c-8498-410bf563c881",
   "metadata": {},
   "outputs": [
    {
     "data": {
      "text/plain": [
       "PearsonRResult(statistic=np.float64(0.9088637279183565), pvalue=np.float64(0.0))"
      ]
     },
     "execution_count": 21,
     "metadata": {},
     "output_type": "execute_result"
    }
   ],
   "source": [
    "stats.pearsonr(raw_data_flatten, mod_out_skloss_flatten)"
   ]
  },
  {
   "cell_type": "code",
   "execution_count": 23,
   "id": "95ce53cc-e4d1-487b-9dbb-5a054aa787c3",
   "metadata": {},
   "outputs": [
    {
     "data": {
      "text/plain": [
       "PearsonRResult(statistic=np.float64(0.7253013034657296), pvalue=np.float64(0.0))"
      ]
     },
     "execution_count": 23,
     "metadata": {},
     "output_type": "execute_result"
    }
   ],
   "source": [
    "stats.pearsonr(\n",
    "    raw_data_flatten[raw_data_flatten < np.percentile(raw_data_flatten, 50)], \n",
    "    mod_out_skloss_flatten[raw_data_flatten < np.percentile(raw_data_flatten, 50)]\n",
    ")"
   ]
  },
  {
   "cell_type": "code",
   "execution_count": 401,
   "id": "a4e96cb2-3d8a-460c-b5e6-7d4c2577fcbf",
   "metadata": {},
   "outputs": [
    {
     "data": {
      "text/html": [
       "<div>\n",
       "<style scoped>\n",
       "    .dataframe tbody tr th:only-of-type {\n",
       "        vertical-align: middle;\n",
       "    }\n",
       "\n",
       "    .dataframe tbody tr th {\n",
       "        vertical-align: top;\n",
       "    }\n",
       "\n",
       "    .dataframe thead th {\n",
       "        text-align: right;\n",
       "    }\n",
       "</style>\n",
       "<table border=\"1\" class=\"dataframe\">\n",
       "  <thead>\n",
       "    <tr style=\"text-align: right;\">\n",
       "      <th></th>\n",
       "      <th>weight_decay</th>\n",
       "      <th>drop_p_prior</th>\n",
       "      <th>drop_p_kki</th>\n",
       "      <th>AUPRC</th>\n",
       "      <th>R2</th>\n",
       "    </tr>\n",
       "  </thead>\n",
       "  <tbody>\n",
       "    <tr>\n",
       "      <th>0</th>\n",
       "      <td>1.000000e-10</td>\n",
       "      <td>0</td>\n",
       "      <td>0</td>\n",
       "      <td>0.226938</td>\n",
       "      <td>0.861669</td>\n",
       "    </tr>\n",
       "  </tbody>\n",
       "</table>\n",
       "</div>"
      ],
      "text/plain": [
       "   weight_decay  drop_p_prior  drop_p_kki     AUPRC        R2\n",
       "0  1.000000e-10             0           0  0.226938  0.861669"
      ]
     },
     "execution_count": 401,
     "metadata": {},
     "output_type": "execute_result"
    }
   ],
   "source": [
    "perf_alf2 = pd.read_csv('result_LA_percentile_50_alpha_2/dp1_0_dp2_0/performance_tmp.csv', index_col=0)\n",
    "perf_alf2 = perf_alf2[(perf_alf2['weight_decay'] == 1e-10) & (perf_alf2['network_type']=='cpd')]\n",
    "perf_alf2.index = range(perf_alf2.shape[0])\n",
    "\n",
    "report_alf2 = perf_alf2[['weight_decay', 'drop_p_prior', 'drop_p_kki', 'cv']].drop_duplicates().copy()\n",
    "report_alf2.index = range(report_alf2.shape[0])\n",
    "\n",
    "report_alf2['AUPRC'] = 0.0\n",
    "report_alf2['R2'] = 0.0\n",
    "for index, row in report_alf2.iterrows():\n",
    "    tmp = perf_alf2.loc[(perf_alf2['weight_decay']==row['weight_decay'])&\\\n",
    "                      (perf_alf2['drop_p_prior']==row['drop_p_prior'])&\\\n",
    "                      (perf_alf2['drop_p_kki']==row['drop_p_kki'])&\\\n",
    "                      (perf_alf2['cv']==row['cv'])]\n",
    "    # 在每个超参数组合下，每次交叉验证中，选取fit/refit（11个）模型R2最高时的AUPRC和R2作为这个超参数组合在这次交叉验证中的性能\n",
    "    max_r2_row = tmp.loc[tmp['val_r2'].idxmax()]\n",
    "    report_alf2.at[index, 'AUPRC'] = max_r2_row['AUPRC']\n",
    "    report_alf2.at[index, 'R2'] = max_r2_row['val_r2']\n",
    "\n",
    "# 计算所有交叉验证的平均值代表每个超参数组合的性能\n",
    "report_alf2 = report_alf2.groupby(['weight_decay', 'drop_p_prior', 'drop_p_kki'])[['AUPRC', 'R2']].mean().reset_index()\n",
    "\n",
    "report_alf2"
   ]
  },
  {
   "cell_type": "code",
   "execution_count": 402,
   "id": "0626007a-def7-4d7e-bff4-1aad99354491",
   "metadata": {},
   "outputs": [
    {
     "data": {
      "text/plain": [
       "KinaseNet(\n",
       "  (activation): ReLU0()\n",
       "  (prior): Encoder(\n",
       "    (dropout): Identity()\n",
       "    (activation): ReLU0()\n",
       "    (fc): Linear(in_features=10287, out_features=186, bias=False)\n",
       "  )\n",
       "  (kki): LatentLayer(\n",
       "    (dropout): Identity()\n",
       "    (activation): ReLU0()\n",
       "    (fc): Linear(in_features=186, out_features=186, bias=False)\n",
       "  )\n",
       "  (ksr): Decoder(\n",
       "    (dropout): Identity()\n",
       "    (activation): ReLU0()\n",
       "    (fc): Linear(in_features=186, out_features=10287, bias=False)\n",
       "  )\n",
       ")"
      ]
     },
     "execution_count": 402,
     "metadata": {},
     "output_type": "execute_result"
    }
   ],
   "source": [
    "mod_model_alf2 = torch.load('result_LA_percentile_50_alpha_2/dp1_0_dp2_0/model/cv0_wd1e-10_refit9.pth')\n",
    "mod_model_alf2.eval()"
   ]
  },
  {
   "cell_type": "code",
   "execution_count": 403,
   "id": "585f4718-5e38-4570-a285-e4609e5fa687",
   "metadata": {},
   "outputs": [],
   "source": [
    "out_mod_alf2 = mod_model_alf2(torch.tensor(np.array(data)).to(raw_model.prior.fc.weight.dtype)).detach().numpy()"
   ]
  },
  {
   "cell_type": "code",
   "execution_count": 404,
   "id": "20b0d0a7-d5ae-47f0-8c98-738511670257",
   "metadata": {},
   "outputs": [
    {
     "data": {
      "text/plain": [
       "Text(0.5, 1.0, 'alpha_samll = 2, percentile = 0.5')"
      ]
     },
     "execution_count": 404,
     "metadata": {},
     "output_type": "execute_result"
    },
    {
     "data": {
      "image/png": "[encoded data removed]",
      "text/plain": [
       "<Figure size 500x500 with 1 Axes>"
      ]
     },
     "metadata": {},
     "output_type": "display_data"
    }
   ],
   "source": [
    "raw_data_flatten = np.array(data).flatten()\n",
    "mod_out_alf2_flatten = out_mod_alf2.flatten()\n",
    "\n",
    "plt.figure(figsize=(5,5))\n",
    "plt.scatter(x=raw_data_flatten, y=mod_out_alf2_flatten, s=1)\n",
    "plt.xlim(-0.1, 4.1)\n",
    "plt.ylim(-0.1, 4.1)\n",
    "plt.xlabel('Actual')\n",
    "plt.ylabel('Reconstructed')\n",
    "plt.text(0, 3.8, 'prearsonr = 0.91')\n",
    "plt.text(0, 3.5, 'prearsonr_samll = 0.73')\n",
    "plt.title('alpha_samll = 2, percentile = 0.5')"
   ]
  },
  {
   "cell_type": "code",
   "execution_count": 405,
   "id": "0ba5b6b3-747e-4a1c-9bb2-49f671a2e4c7",
   "metadata": {},
   "outputs": [
    {
     "data": {
      "text/plain": [
       "(0.9118034523467369, 0.0)"
      ]
     },
     "execution_count": 405,
     "metadata": {},
     "output_type": "execute_result"
    }
   ],
   "source": [
    "stats.pearsonr(raw_data_flatten, mod_out_alf2_flatten)"
   ]
  },
  {
   "cell_type": "code",
   "execution_count": 406,
   "id": "fd957b9e-b7a4-40c3-ab7e-91b41f57840d",
   "metadata": {},
   "outputs": [
    {
     "data": {
      "text/plain": [
       "(0.7334926601311111, 0.0)"
      ]
     },
     "execution_count": 406,
     "metadata": {},
     "output_type": "execute_result"
    }
   ],
   "source": [
    "stats.pearsonr(raw_data_flatten[raw_data_flatten < np.percentile(raw_data_flatten, 50)], \n",
    "               mod_out_alf2_flatten[[raw_data_flatten < np.percentile(raw_data_flatten, 50)]])"
   ]
  },
  {
   "cell_type": "code",
   "execution_count": null,
   "id": "fcd566d6-daa6-44b8-acc6-3c351d593818",
   "metadata": {},
   "outputs": [],
   "source": []
  }
 ],
 "metadata": {
  "kernelspec": {
   "display_name": "Python 3 (ipykernel)",
   "language": "python",
   "name": "python3"
  },
  "language_info": {
   "codemirror_mode": {
    "name": "ipython",
    "version": 3
   },
   "file_extension": ".py",
   "mimetype": "text/x-python",
   "name": "python",
   "nbconvert_exporter": "python",
   "pygments_lexer": "ipython3",
   "version": "3.9.20"
  }
 },
 "nbformat": 4,
 "nbformat_minor": 5
}
