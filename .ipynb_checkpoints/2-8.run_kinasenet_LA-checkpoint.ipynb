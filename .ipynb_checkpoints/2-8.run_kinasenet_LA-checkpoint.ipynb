{
 "cells": [
  {
   "cell_type": "markdown",
   "id": "e54dae10-b9ec-4fe6-a7c7-0f0caa06f6f2",
   "metadata": {},
   "source": [
    "# import packages"
   ]
  },
  {
   "cell_type": "code",
   "execution_count": 1,
   "id": "a9ebdb1a-e219-4c80-b50f-86951c92d4ea",
   "metadata": {},
   "outputs": [],
   "source": [
    "import warnings\n",
    "warnings.filterwarnings('ignore')"
   ]
  },
  {
   "cell_type": "code",
   "execution_count": 2,
   "id": "a5c0b905-5662-481c-850d-77d7e6c6801e",
   "metadata": {},
   "outputs": [
    {
     "name": "stderr",
     "output_type": "stream",
     "text": [
      "2024-11-21 09:43:20.574859: I tensorflow/core/util/port.cc:153] oneDNN custom operations are on. You may see slightly different numerical results due to floating-point round-off errors from different computation orders. To turn them off, set the environment variable `TF_ENABLE_ONEDNN_OPTS=0`.\n",
      "2024-11-21 09:43:20.688811: E external/local_xla/xla/stream_executor/cuda/cuda_fft.cc:477] Unable to register cuFFT factory: Attempting to register factory for plugin cuFFT when one has already been registered\n",
      "WARNING: All log messages before absl::InitializeLog() is called are written to STDERR\n",
      "E0000 00:00:1732153400.725793  144356 cuda_dnn.cc:8310] Unable to register cuDNN factory: Attempting to register factory for plugin cuDNN when one has already been registered\n",
      "E0000 00:00:1732153400.734432  144356 cuda_blas.cc:1418] Unable to register cuBLAS factory: Attempting to register factory for plugin cuBLAS when one has already been registered\n",
      "2024-11-21 09:43:20.784955: I tensorflow/core/platform/cpu_feature_guard.cc:210] This TensorFlow binary is optimized to use available CPU instructions in performance-critical operations.\n",
      "To enable the following instructions: AVX2 AVX512F AVX512_VNNI FMA, in other operations, rebuild TensorFlow with the appropriate compiler flags.\n"
     ]
    }
   ],
   "source": [
    "import sys\n",
    "sys.path.append(\"src/\")\n",
    "from src import *"
   ]
  },
  {
   "cell_type": "markdown",
   "id": "0557b942-76b2-457f-a625-a861deb6876f",
   "metadata": {},
   "source": [
    "# data preprocess"
   ]
  },
  {
   "cell_type": "code",
   "execution_count": null,
   "id": "c6027f8e-6d47-40d3-ba0b-01dde03ae20f",
   "metadata": {},
   "outputs": [],
   "source": [
    "# data_pp = DataProcessor(exp_path=f\"./data/phos_MS_merged/{ct}/{ct}.feather\", \n",
    "#                         ksr_path=f\"data/KSR/prior_{ct}.tsv\", \n",
    "#                         output_path=f\"./data/preprocessed_data/{ct}\", \n",
    "#                         with_centering=False, quantile_range=(1, 99), unit_variance=False)\n",
    "# data, prior = data_pp.process_all()"
   ]
  },
  {
   "cell_type": "code",
   "execution_count": null,
   "id": "d04227ad-f5e5-4a13-84bb-6f3c1c86103e",
   "metadata": {},
   "outputs": [],
   "source": [
    "data.shape, prior.shape"
   ]
  },
  {
   "cell_type": "markdown",
   "id": "7457645a-c8cb-4293-989e-968f8d8001ba",
   "metadata": {},
   "source": [
    "# run"
   ]
  },
  {
   "cell_type": "code",
   "execution_count": 3,
   "id": "b7a77edf-71de-4322-8237-da1dd7b0854e",
   "metadata": {},
   "outputs": [
    {
     "data": {
      "text/plain": [
       "((274, 10287), (186, 10287))"
      ]
     },
     "execution_count": 3,
     "metadata": {},
     "output_type": "execute_result"
    }
   ],
   "source": [
    "ct = 'LA'\n",
    "\n",
    "data = pd.read_parquet(f\"data/preprocessed_data/{ct}/data.parquet\")\n",
    "prior = pd.read_parquet(f\"data/preprocessed_data/{ct}/prior.parquet\")\n",
    "\n",
    "data.shape, prior.shape"
   ]
  },
  {
   "cell_type": "code",
   "execution_count": null,
   "id": "7230900d-8e69-492f-9e71-b7952fe652a6",
   "metadata": {},
   "outputs": [],
   "source": [
    "dp_list = [0, 0.05, 0.1, 0.3, 0.5]\n",
    "\n",
    "dp1_list = [0.3, 0.5]\n",
    "\n",
    "len(dp_list)"
   ]
  },
  {
   "cell_type": "code",
   "execution_count": null,
   "id": "2352a0ce-b2a2-4d3f-ab69-a274f06751ed",
   "metadata": {
    "scrolled": true
   },
   "outputs": [],
   "source": [
    "data\n",
    "data = np.array(data).flatten()\n",
    "percentile_80 = np.percentile(data, 80)"
   ]
  },
  {
   "cell_type": "code",
   "execution_count": null,
   "id": "79a8509b-d1ed-4b0e-b759-6699d0dc8e22",
   "metadata": {},
   "outputs": [],
   "source": [
    "import numpy as np\n",
    "import matplotlib.pyplot as plt\n",
    "import seaborn as sns\n",
    "\n",
    "for idx, (index, row) in enumerate(data.iterrows()):\n",
    "    if idx < 100  and idx > 90:  # 限制只显示前 10 个\n",
    "    # print(f\"index = {index}\")\n",
    "    # print(f\"row = {row}\")\n",
    "        plt.figure(figsize=(10, 6))\n",
    "        plt.hist(row.values, bins=30, alpha=0.6, color='g', edgecolor='black', density=True)\n",
    "        plt.title(f'Data Distribution (Histogram) - Index {index}', fontsize=16)\n",
    "        plt.xlabel('Value', fontsize=12)\n",
    "        plt.ylabel('Density', fontsize=12)\n",
    "        plt.grid(True)\n",
    "\n",
    "        plt.figure(figsize=(10, 6))\n",
    "        sns.kdeplot(row.values, shade=True, color='blue')\n",
    "        plt.title(f'Data Distribution (Density Plot) - Index {index}', fontsize=16)\n",
    "        plt.xlabel('Value', fontsize=12)\n",
    "        plt.ylabel('Density', fontsize=12)\n",
    "        plt.grid(True)\n",
    "\n",
    "plt.show()\n",
    "\n",
    "\n"
   ]
  },
  {
   "cell_type": "code",
   "execution_count": null,
   "id": "c679058b-3c48-437d-8859-5b176f93c880",
   "metadata": {},
   "outputs": [],
   "source": [
    "count = (data < 1.2).sum().sum()  \n",
    "total_elements = data.size\n",
    "\n",
    "percentage = (count / total_elements) * 100\n",
    "percentage"
   ]
  },
  {
   "cell_type": "code",
   "execution_count": null,
   "id": "c097fe83-20e0-4d5d-9fe8-d43c7e6bec8c",
   "metadata": {
    "scrolled": true
   },
   "outputs": [],
   "source": [
    "for dp1 in dp1_list:\n",
    "    for dp2 in dp_list:\n",
    "        print(f\"dp1: {dp1}, dp2: {dp2}\\n\")\n",
    "\n",
    "        fit_model(data, prior, output_path=f\"./result_{ct}_changeloss_threshold_1.2/dp1_{dp1}_dp2_{dp2}/\", \n",
    "                  data_val_size=0.3, batch_size=32, fraction_gs=0.2, \n",
    "                  num_epochs=200, cvs=5, num_epochs_refit=50, refit_iters=10, refit_resample=True, \n",
    "                  weight_decays=(-10, -1, 4), lr=1e-4, \n",
    "                  scheduler_class=torch.optim.lr_scheduler.CosineAnnealingLR, scheduler_kwargs={'T_max': 10}, \n",
    "                  optimizer_class=torch.optim.Adam, optimizerkw={}, optimizer_paramskw={},\n",
    "                  dropout_rate1=dp1, dropout_rate2=dp2, dropout_rate3=dp2, activation=ReLU0(),\n",
    "                  eps=torch.finfo(torch.float).eps, eps_factor=10, fill_zeroed=True, device='cuda:1')"
   ]
  },
  {
   "cell_type": "code",
   "execution_count": 4,
   "id": "676a67af-5da0-4a17-b20d-fb24dc4be937",
   "metadata": {},
   "outputs": [
    {
     "name": "stdout",
     "output_type": "stream",
     "text": [
      "dp1: 0.05, dp2: 0\n",
      "\n",
      "Attemts to create full prior: 2000\r"
     ]
    },
    {
     "ename": "KeyboardInterrupt",
     "evalue": "",
     "output_type": "error",
     "traceback": [
      "\u001b[0;31m---------------------------------------------------------------------------\u001b[0m",
      "\u001b[0;31mKeyboardInterrupt\u001b[0m                         Traceback (most recent call last)",
      "Cell \u001b[0;32mIn[4], line 4\u001b[0m\n\u001b[1;32m      2\u001b[0m dp2 \u001b[38;5;241m=\u001b[39m \u001b[38;5;241m0\u001b[39m\n\u001b[1;32m      3\u001b[0m \u001b[38;5;28mprint\u001b[39m(\u001b[38;5;124mf\u001b[39m\u001b[38;5;124m\"\u001b[39m\u001b[38;5;124mdp1: \u001b[39m\u001b[38;5;132;01m{\u001b[39;00mdp1\u001b[38;5;132;01m}\u001b[39;00m\u001b[38;5;124m, dp2: \u001b[39m\u001b[38;5;132;01m{\u001b[39;00mdp2\u001b[38;5;132;01m}\u001b[39;00m\u001b[38;5;130;01m\\n\u001b[39;00m\u001b[38;5;124m\"\u001b[39m)\n\u001b[0;32m----> 4\u001b[0m \u001b[43mfit_model\u001b[49m\u001b[43m(\u001b[49m\u001b[43mdata\u001b[49m\u001b[43m,\u001b[49m\u001b[43m \u001b[49m\u001b[43mprior\u001b[49m\u001b[43m,\u001b[49m\u001b[43m \u001b[49m\u001b[43moutput_path\u001b[49m\u001b[38;5;241;43m=\u001b[39;49m\u001b[38;5;124;43mf\u001b[39;49m\u001b[38;5;124;43m\"\u001b[39;49m\u001b[38;5;124;43m./result_\u001b[39;49m\u001b[38;5;132;43;01m{\u001b[39;49;00m\u001b[43mct\u001b[49m\u001b[38;5;132;43;01m}\u001b[39;49;00m\u001b[38;5;124;43m_percentile_test/dp1_\u001b[39;49m\u001b[38;5;132;43;01m{\u001b[39;49;00m\u001b[43mdp1\u001b[49m\u001b[38;5;132;43;01m}\u001b[39;49;00m\u001b[38;5;124;43m_dp2_\u001b[39;49m\u001b[38;5;132;43;01m{\u001b[39;49;00m\u001b[43mdp2\u001b[49m\u001b[38;5;132;43;01m}\u001b[39;49;00m\u001b[38;5;124;43m/\u001b[39;49m\u001b[38;5;124;43m\"\u001b[39;49m\u001b[43m,\u001b[49m\u001b[43m \u001b[49m\n\u001b[1;32m      5\u001b[0m \u001b[43m          \u001b[49m\u001b[43mdata_val_size\u001b[49m\u001b[38;5;241;43m=\u001b[39;49m\u001b[38;5;241;43m0.3\u001b[39;49m\u001b[43m,\u001b[49m\u001b[43m \u001b[49m\u001b[43mbatch_size\u001b[49m\u001b[38;5;241;43m=\u001b[39;49m\u001b[38;5;241;43m32\u001b[39;49m\u001b[43m,\u001b[49m\u001b[43m \u001b[49m\u001b[43mfraction_gs\u001b[49m\u001b[38;5;241;43m=\u001b[39;49m\u001b[38;5;241;43m0.2\u001b[39;49m\u001b[43m,\u001b[49m\u001b[43m \u001b[49m\n\u001b[1;32m      6\u001b[0m \u001b[43m          \u001b[49m\u001b[43mnum_epochs\u001b[49m\u001b[38;5;241;43m=\u001b[39;49m\u001b[38;5;241;43m200\u001b[39;49m\u001b[43m,\u001b[49m\u001b[43m \u001b[49m\u001b[43mcvs\u001b[49m\u001b[38;5;241;43m=\u001b[39;49m\u001b[38;5;241;43m5\u001b[39;49m\u001b[43m,\u001b[49m\u001b[43m \u001b[49m\u001b[43mnum_epochs_refit\u001b[49m\u001b[38;5;241;43m=\u001b[39;49m\u001b[38;5;241;43m50\u001b[39;49m\u001b[43m,\u001b[49m\u001b[43m \u001b[49m\u001b[43mrefit_iters\u001b[49m\u001b[38;5;241;43m=\u001b[39;49m\u001b[38;5;241;43m10\u001b[39;49m\u001b[43m,\u001b[49m\u001b[43m \u001b[49m\u001b[43mrefit_resample\u001b[49m\u001b[38;5;241;43m=\u001b[39;49m\u001b[38;5;28;43;01mTrue\u001b[39;49;00m\u001b[43m,\u001b[49m\u001b[43m \u001b[49m\n\u001b[1;32m      7\u001b[0m \u001b[43m          \u001b[49m\u001b[43mweight_decays\u001b[49m\u001b[38;5;241;43m=\u001b[39;49m\u001b[43m(\u001b[49m\u001b[38;5;241;43m-\u001b[39;49m\u001b[38;5;241;43m10\u001b[39;49m\u001b[43m,\u001b[49m\u001b[43m \u001b[49m\u001b[38;5;241;43m-\u001b[39;49m\u001b[38;5;241;43m1\u001b[39;49m\u001b[43m,\u001b[49m\u001b[43m \u001b[49m\u001b[38;5;241;43m4\u001b[39;49m\u001b[43m)\u001b[49m\u001b[43m,\u001b[49m\u001b[43m \u001b[49m\u001b[43mlr\u001b[49m\u001b[38;5;241;43m=\u001b[39;49m\u001b[38;5;241;43m1e-4\u001b[39;49m\u001b[43m,\u001b[49m\u001b[43m \u001b[49m\n\u001b[1;32m      8\u001b[0m \u001b[43m          \u001b[49m\u001b[43mscheduler_class\u001b[49m\u001b[38;5;241;43m=\u001b[39;49m\u001b[43mtorch\u001b[49m\u001b[38;5;241;43m.\u001b[39;49m\u001b[43moptim\u001b[49m\u001b[38;5;241;43m.\u001b[39;49m\u001b[43mlr_scheduler\u001b[49m\u001b[38;5;241;43m.\u001b[39;49m\u001b[43mCosineAnnealingLR\u001b[49m\u001b[43m,\u001b[49m\u001b[43m \u001b[49m\u001b[43mscheduler_kwargs\u001b[49m\u001b[38;5;241;43m=\u001b[39;49m\u001b[43m{\u001b[49m\u001b[38;5;124;43m'\u001b[39;49m\u001b[38;5;124;43mT_max\u001b[39;49m\u001b[38;5;124;43m'\u001b[39;49m\u001b[43m:\u001b[49m\u001b[43m \u001b[49m\u001b[38;5;241;43m10\u001b[39;49m\u001b[43m}\u001b[49m\u001b[43m,\u001b[49m\u001b[43m \u001b[49m\n\u001b[1;32m      9\u001b[0m \u001b[43m          \u001b[49m\u001b[43moptimizer_class\u001b[49m\u001b[38;5;241;43m=\u001b[39;49m\u001b[43mtorch\u001b[49m\u001b[38;5;241;43m.\u001b[39;49m\u001b[43moptim\u001b[49m\u001b[38;5;241;43m.\u001b[39;49m\u001b[43mAdam\u001b[49m\u001b[43m,\u001b[49m\u001b[43m \u001b[49m\u001b[43moptimizerkw\u001b[49m\u001b[38;5;241;43m=\u001b[39;49m\u001b[43m{\u001b[49m\u001b[43m}\u001b[49m\u001b[43m,\u001b[49m\u001b[43m \u001b[49m\u001b[43moptimizer_paramskw\u001b[49m\u001b[38;5;241;43m=\u001b[39;49m\u001b[43m{\u001b[49m\u001b[43m}\u001b[49m\u001b[43m,\u001b[49m\n\u001b[1;32m     10\u001b[0m \u001b[43m          \u001b[49m\u001b[43mdropout_rate1\u001b[49m\u001b[38;5;241;43m=\u001b[39;49m\u001b[43mdp1\u001b[49m\u001b[43m,\u001b[49m\u001b[43m \u001b[49m\u001b[43mdropout_rate2\u001b[49m\u001b[38;5;241;43m=\u001b[39;49m\u001b[43mdp2\u001b[49m\u001b[43m,\u001b[49m\u001b[43m \u001b[49m\u001b[43mdropout_rate3\u001b[49m\u001b[38;5;241;43m=\u001b[39;49m\u001b[43mdp2\u001b[49m\u001b[43m,\u001b[49m\u001b[43m \u001b[49m\u001b[43mactivation\u001b[49m\u001b[38;5;241;43m=\u001b[39;49m\u001b[43mReLU0\u001b[49m\u001b[43m(\u001b[49m\u001b[43m)\u001b[49m\u001b[43m,\u001b[49m\n\u001b[1;32m     11\u001b[0m \u001b[43m          \u001b[49m\u001b[43meps\u001b[49m\u001b[38;5;241;43m=\u001b[39;49m\u001b[43mtorch\u001b[49m\u001b[38;5;241;43m.\u001b[39;49m\u001b[43mfinfo\u001b[49m\u001b[43m(\u001b[49m\u001b[43mtorch\u001b[49m\u001b[38;5;241;43m.\u001b[39;49m\u001b[43mfloat\u001b[49m\u001b[43m)\u001b[49m\u001b[38;5;241;43m.\u001b[39;49m\u001b[43meps\u001b[49m\u001b[43m,\u001b[49m\u001b[43m \u001b[49m\u001b[43meps_factor\u001b[49m\u001b[38;5;241;43m=\u001b[39;49m\u001b[38;5;241;43m10\u001b[39;49m\u001b[43m,\u001b[49m\u001b[43m \u001b[49m\u001b[43mfill_zeroed\u001b[49m\u001b[38;5;241;43m=\u001b[39;49m\u001b[38;5;28;43;01mTrue\u001b[39;49;00m\u001b[43m,\u001b[49m\u001b[43m \u001b[49m\u001b[43mdevice\u001b[49m\u001b[38;5;241;43m=\u001b[39;49m\u001b[38;5;124;43m'\u001b[39;49m\u001b[38;5;124;43mcuda:0\u001b[39;49m\u001b[38;5;124;43m'\u001b[39;49m\u001b[43m,\u001b[49m\u001b[43malpha\u001b[49m\u001b[43m \u001b[49m\u001b[38;5;241;43m=\u001b[39;49m\u001b[43m \u001b[49m\u001b[38;5;241;43m0.75\u001b[39;49m\u001b[43m,\u001b[49m\u001b[43mpercentile\u001b[49m\u001b[43m \u001b[49m\u001b[38;5;241;43m=\u001b[39;49m\u001b[43m \u001b[49m\u001b[38;5;241;43m75\u001b[39;49m\u001b[43m)\u001b[49m\n",
      "File \u001b[0;32m~/Project/KinaseNetwork_Project/src/fit_model.py:49\u001b[0m, in \u001b[0;36mfit_model\u001b[0;34m(data, prior, output_path, data_val_size, batch_size, fraction_gs, num_epochs, cvs, num_epochs_refit, refit_iters, refit_resample, weight_decays, lr, scheduler_class, scheduler_kwargs, optimizer_class, optimizerkw, optimizer_paramskw, dropout_rate1, dropout_rate2, dropout_rate3, activation, eps, eps_factor, fill_zeroed, device, alpha, percentile)\u001b[0m\n\u001b[1;32m     47\u001b[0m \u001b[38;5;66;03m# 1-2. Split prior\u001b[39;00m\n\u001b[1;32m     48\u001b[0m rng \u001b[38;5;241m=\u001b[39m np\u001b[38;5;241m.\u001b[39mrandom\u001b[38;5;241m.\u001b[39mdefault_rng(cv)\n\u001b[0;32m---> 49\u001b[0m train_prior, test_prior \u001b[38;5;241m=\u001b[39m \u001b[43msplit_prior\u001b[49m\u001b[43m(\u001b[49m\u001b[43mprior\u001b[49m\u001b[38;5;241;43m=\u001b[39;49m\u001b[43mprior\u001b[49m\u001b[43m,\u001b[49m\u001b[43m \u001b[49m\u001b[43mrng\u001b[49m\u001b[38;5;241;43m=\u001b[39;49m\u001b[43mrng\u001b[49m\u001b[43m,\u001b[49m\u001b[43m \u001b[49m\u001b[43mfraction_gs\u001b[49m\u001b[38;5;241;43m=\u001b[39;49m\u001b[43mfraction_gs\u001b[49m\u001b[43m)\u001b[49m\n\u001b[1;32m     51\u001b[0m num_total_ksr \u001b[38;5;241m=\u001b[39m (prior \u001b[38;5;241m>\u001b[39m \u001b[38;5;241m0\u001b[39m)\u001b[38;5;241m.\u001b[39msum()\u001b[38;5;241m.\u001b[39msum()\n\u001b[1;32m     52\u001b[0m num_train_ksr \u001b[38;5;241m=\u001b[39m (train_prior \u001b[38;5;241m>\u001b[39m \u001b[38;5;241m0\u001b[39m)\u001b[38;5;241m.\u001b[39msum()\u001b[38;5;241m.\u001b[39msum()\n",
      "File \u001b[0;32m~/Project/KinaseNetwork_Project/src/utils.py:78\u001b[0m, in \u001b[0;36msplit_prior\u001b[0;34m(prior, rng, fraction_gs)\u001b[0m\n\u001b[1;32m     76\u001b[0m rng\u001b[38;5;241m.\u001b[39mshuffle(colsids)\n\u001b[1;32m     77\u001b[0m colsgs \u001b[38;5;241m=\u001b[39m \u001b[38;5;28msorted\u001b[39m(colsids[:\u001b[38;5;28mint\u001b[39m(cols \u001b[38;5;241m*\u001b[39m fraction_gs)])\n\u001b[0;32m---> 78\u001b[0m colspri \u001b[38;5;241m=\u001b[39m \u001b[38;5;28;43msorted\u001b[39;49m\u001b[43m(\u001b[49m\u001b[43mcolsids\u001b[49m\u001b[43m[\u001b[49m\u001b[38;5;28;43mint\u001b[39;49m\u001b[43m(\u001b[49m\u001b[43mcols\u001b[49m\u001b[43m \u001b[49m\u001b[38;5;241;43m*\u001b[39;49m\u001b[43m \u001b[49m\u001b[43mfraction_gs\u001b[49m\u001b[43m)\u001b[49m\u001b[43m:\u001b[49m\u001b[43m]\u001b[49m\u001b[43m)\u001b[49m\n\u001b[1;32m     80\u001b[0m tmp \u001b[38;5;241m=\u001b[39m use_prior\u001b[38;5;241m.\u001b[39mcopy()\n\u001b[1;32m     81\u001b[0m tmp\u001b[38;5;241m.\u001b[39miloc[:, colsgs] \u001b[38;5;241m=\u001b[39m \u001b[38;5;241m0\u001b[39m\n",
      "\u001b[0;31mKeyboardInterrupt\u001b[0m: "
     ]
    }
   ],
   "source": [
    "dp1 = 0.05\n",
    "dp2 = 0\n",
    "print(f\"dp1: {dp1}, dp2: {dp2}\\n\")\n",
    "fit_model(data, prior, output_path=f\"./result_{ct}_percentile_test/dp1_{dp1}_dp2_{dp2}/\", \n",
    "          data_val_size=0.3, batch_size=32, fraction_gs=0.2, \n",
    "          num_epochs=200, cvs=5, num_epochs_refit=50, refit_iters=10, refit_resample=True, \n",
    "          weight_decays=(-10, -1, 4), lr=1e-4, \n",
    "          scheduler_class=torch.optim.lr_scheduler.CosineAnnealingLR, scheduler_kwargs={'T_max': 10}, \n",
    "          optimizer_class=torch.optim.Adam, optimizerkw={}, optimizer_paramskw={},\n",
    "          dropout_rate1=dp1, dropout_rate2=dp2, dropout_rate3=dp2, activation=ReLU0(),\n",
    "          eps=torch.finfo(torch.float).eps, eps_factor=10, fill_zeroed=True, device='cuda:0',alpha = 0.8,percentile = 80)"
   ]
  },
  {
   "cell_type": "code",
   "execution_count": null,
   "id": "0f385cb3-be1a-4d76-86fb-e705fcc4ff16",
   "metadata": {},
   "outputs": [],
   "source": []
  }
 ],
 "metadata": {
  "kernelspec": {
   "display_name": "Python 3 (ipykernel)",
   "language": "python",
   "name": "python3"
  },
  "language_info": {
   "codemirror_mode": {
    "name": "ipython",
    "version": 3
   },
   "file_extension": ".py",
   "mimetype": "text/x-python",
   "name": "python",
   "nbconvert_exporter": "python",
   "pygments_lexer": "ipython3",
   "version": "3.9.20"
  }
 },
 "nbformat": 4,
 "nbformat_minor": 5
}
