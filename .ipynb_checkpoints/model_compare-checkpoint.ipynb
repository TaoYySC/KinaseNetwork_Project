{
 "cells": [
  {
   "cell_type": "code",
   "execution_count": 2,
   "id": "6874f61f-fac8-4c3c-8a61-02717b0afced",
   "metadata": {},
   "outputs": [],
   "source": [
    "import pandas as pd\n",
    "import numpy as np\n",
    "import os"
   ]
  },
  {
   "cell_type": "code",
   "execution_count": 7,
   "id": "4f8055f2-bacb-429d-8868-19b0fd439d98",
   "metadata": {},
   "outputs": [],
   "source": [
    "path = 'result_ST/dp1_0_dp2_0/performance_tmp.csv'\n",
    "performance = pd.read_csv(path)"
   ]
  },
  {
   "cell_type": "code",
   "execution_count": 14,
   "id": "a6e43a72-b37a-4aa6-8375-5698785c8859",
   "metadata": {},
   "outputs": [],
   "source": [
    "max_val_r2 = performance['val_r2'].max()\n",
    "performance_val_r2 = performance[performance['val_r2']==max_val_r2]"
   ]
  },
  {
   "cell_type": "code",
   "execution_count": 16,
   "id": "442ac8c3-8de9-4d31-b611-16315a558e1c",
   "metadata": {},
   "outputs": [],
   "source": [
    "max_auprc = performance_val_r2['AUPRC'].max()\n",
    "performance_auprc = performance_val_r2[performance_val_r2['AUPRC']==max_auprc]"
   ]
  },
  {
   "cell_type": "code",
   "execution_count": 7,
   "id": "871364f7-fa59-412f-bd21-f7f12e22a8cf",
   "metadata": {},
   "outputs": [
    {
     "ename": "TypeError",
     "evalue": "list indices must be integers or slices, not str",
     "output_type": "error",
     "traceback": [
      "\u001b[0;31m---------------------------------------------------------------------------\u001b[0m",
      "\u001b[0;31mTypeError\u001b[0m                                 Traceback (most recent call last)",
      "Cell \u001b[0;32mIn[7], line 16\u001b[0m\n\u001b[1;32m     14\u001b[0m     performance_auprc \u001b[38;5;241m=\u001b[39m performance_val_r2[performance_val_r2[\u001b[38;5;124m'\u001b[39m\u001b[38;5;124mAUPRC\u001b[39m\u001b[38;5;124m'\u001b[39m]\u001b[38;5;241m==\u001b[39mmax_auprc]\n\u001b[1;32m     15\u001b[0m     dp_best\u001b[38;5;241m.\u001b[39mappend(performance_auprc)\n\u001b[0;32m---> 16\u001b[0m     dp_best[\u001b[38;5;124m'\u001b[39m\u001b[38;5;124malpha\u001b[39m\u001b[38;5;124m'\u001b[39m] \u001b[38;5;241m=\u001b[39m al\n\u001b[1;32m     18\u001b[0m     dp_best_df \u001b[38;5;241m=\u001b[39m pd\u001b[38;5;241m.\u001b[39mconcat(dp_best, ignore_index\u001b[38;5;241m=\u001b[39m\u001b[38;5;28;01mTrue\u001b[39;00m)\n\u001b[1;32m     20\u001b[0m dp_best_df\n",
      "\u001b[0;31mTypeError\u001b[0m: list indices must be integers or slices, not str"
     ]
    }
   ],
   "source": [
    "alpha = [0.7,0.8]\n",
    "# 构建文件路径\n",
    "dp_name = \"dp1_0.05_dp2_0\"\n",
    "dp_best = []\n",
    "for al in alpha:\n",
    "    PATH = f\"result_LA_alpha_{al}\"\n",
    "    path = os.path.join(PATH,dp_name,'performance_tmp.csv')\n",
    "    performance = pd.read_csv(path)\n",
    "    # 优先满足val_r2的值, 即val_r2要最大\n",
    "    max_val_r2 = performance['val_r2'].max()\n",
    "    performance_val_r2 = performance[performance['val_r2']==max_val_r2]\n",
    "    # 其次满足auprc最大\n",
    "    max_auprc = performance_val_r2['AUPRC'].max()\n",
    "    performance_auprc = performance_val_r2[performance_val_r2['AUPRC']==max_auprc]\n",
    "    performance_auprc['alpha'] = al\n",
    "    dp_best.append(performance_auprc)\n",
    "    \n",
    "    dp_best_df = pd.concat(dp_best, ignore_index=True)\n",
    "\n",
    "dp_best_df\n",
    "# # 存储到一个新的 CSV 文件中\n",
    "# output_path = os.path.join(PATH, 'dp_best.csv')\n",
    "# dp_best.to_csv(output_path, index=False)"
   ]
  },
  {
   "cell_type": "code",
   "execution_count": 21,
   "id": "6c0ab838-4e10-4fda-83c9-78c71beb44a0",
   "metadata": {},
   "outputs": [],
   "source": [
    "max_val_r2 = dp_best_df['val_r2'].max()\n",
    "dp_val_r2 = dp_best_df[dp_best_df['val_r2']==max_val_r2]\n",
    "\n",
    "max_auprc = dp_val_r2['AUPRC'].max()\n",
    "best_model = dp_val_r2[dp_val_r2['AUPRC']==max_auprc]"
   ]
  },
  {
   "cell_type": "code",
   "execution_count": 23,
   "id": "d45ac600-c6a9-46f3-87e9-5cdc50117f2e",
   "metadata": {},
   "outputs": [
    {
     "data": {
      "text/html": [
       "<div>\n",
       "<style scoped>\n",
       "    .dataframe tbody tr th:only-of-type {\n",
       "        vertical-align: middle;\n",
       "    }\n",
       "\n",
       "    .dataframe tbody tr th {\n",
       "        vertical-align: top;\n",
       "    }\n",
       "\n",
       "    .dataframe thead th {\n",
       "        text-align: right;\n",
       "    }\n",
       "</style>\n",
       "<table border=\"1\" class=\"dataframe\">\n",
       "  <thead>\n",
       "    <tr style=\"text-align: right;\">\n",
       "      <th></th>\n",
       "      <th>Unnamed: 0</th>\n",
       "      <th>network_type</th>\n",
       "      <th>cv</th>\n",
       "      <th>weight_decay</th>\n",
       "      <th>refit</th>\n",
       "      <th>num_train_ksr</th>\n",
       "      <th>num_test_ksr</th>\n",
       "      <th>AUPRC</th>\n",
       "      <th>AUROC</th>\n",
       "      <th>MCC</th>\n",
       "      <th>...</th>\n",
       "      <th>TN</th>\n",
       "      <th>FP</th>\n",
       "      <th>FN</th>\n",
       "      <th>train_loss</th>\n",
       "      <th>val_loss</th>\n",
       "      <th>val_r2</th>\n",
       "      <th>activation</th>\n",
       "      <th>drop_p_prior</th>\n",
       "      <th>drop_p_kki</th>\n",
       "      <th>drop_p_ksr</th>\n",
       "    </tr>\n",
       "  </thead>\n",
       "  <tbody>\n",
       "    <tr>\n",
       "      <th>5</th>\n",
       "      <td>416</td>\n",
       "      <td>cpd</td>\n",
       "      <td>4</td>\n",
       "      <td>0.0001</td>\n",
       "      <td>9.0</td>\n",
       "      <td>102511</td>\n",
       "      <td>26578</td>\n",
       "      <td>0.345593</td>\n",
       "      <td>0.723028</td>\n",
       "      <td>0.308076</td>\n",
       "      <td>...</td>\n",
       "      <td>191714.0</td>\n",
       "      <td>49937.0</td>\n",
       "      <td>9204.0</td>\n",
       "      <td>0.003552</td>\n",
       "      <td>0.002509</td>\n",
       "      <td>0.981073</td>\n",
       "      <td>ReLU0</td>\n",
       "      <td>0.05</td>\n",
       "      <td>0.0</td>\n",
       "      <td>0.0</td>\n",
       "    </tr>\n",
       "  </tbody>\n",
       "</table>\n",
       "<p>1 rows × 23 columns</p>\n",
       "</div>"
      ],
      "text/plain": [
       "   Unnamed: 0 network_type  cv  weight_decay  refit  num_train_ksr  \\\n",
       "5         416          cpd   4        0.0001    9.0         102511   \n",
       "\n",
       "   num_test_ksr     AUPRC     AUROC       MCC  ...        TN       FP      FN  \\\n",
       "5         26578  0.345593  0.723028  0.308076  ...  191714.0  49937.0  9204.0   \n",
       "\n",
       "   train_loss  val_loss    val_r2  activation  drop_p_prior  drop_p_kki  \\\n",
       "5    0.003552  0.002509  0.981073       ReLU0          0.05         0.0   \n",
       "\n",
       "  drop_p_ksr  \n",
       "5        0.0  \n",
       "\n",
       "[1 rows x 23 columns]"
      ]
     },
     "execution_count": 23,
     "metadata": {},
     "output_type": "execute_result"
    }
   ],
   "source": [
    "best_model\n",
    "dp_val_r2"
   ]
  }
 ],
 "metadata": {
  "kernelspec": {
   "display_name": "Python 3 (ipykernel)",
   "language": "python",
   "name": "python3"
  },
  "language_info": {
   "codemirror_mode": {
    "name": "ipython",
    "version": 3
   },
   "file_extension": ".py",
   "mimetype": "text/x-python",
   "name": "python",
   "nbconvert_exporter": "python",
   "pygments_lexer": "ipython3",
   "version": "3.10.15"
  }
 },
 "nbformat": 4,
 "nbformat_minor": 5
}
