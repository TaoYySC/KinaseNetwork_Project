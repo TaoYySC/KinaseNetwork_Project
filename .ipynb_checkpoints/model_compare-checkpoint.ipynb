{
 "cells": [
  {
   "cell_type": "code",
   "execution_count": 4,
   "id": "6874f61f-fac8-4c3c-8a61-02717b0afced",
   "metadata": {},
   "outputs": [],
   "source": [
    "import pandas as pd\n",
    "import numpy as np\n",
    "import os\n",
    "import matplotlib.pyplot as plt"
   ]
  },
  {
   "cell_type": "code",
   "execution_count": null,
   "id": "4f8055f2-bacb-429d-8868-19b0fd439d98",
   "metadata": {},
   "outputs": [],
   "source": [
    "path = 'result_ST/dp1_0_dp2_0/performance_tmp.csv'\n",
    "performance = pd.read_csv(path)"
   ]
  },
  {
   "cell_type": "code",
   "execution_count": null,
   "id": "a6e43a72-b37a-4aa6-8375-5698785c8859",
   "metadata": {},
   "outputs": [],
   "source": [
    "max_val_r2 = performance['val_r2'].max()\n",
    "performance_val_r2 = performance[performance['val_r2']==max_val_r2]"
   ]
  },
  {
   "cell_type": "code",
   "execution_count": null,
   "id": "442ac8c3-8de9-4d31-b611-16315a558e1c",
   "metadata": {},
   "outputs": [],
   "source": [
    "max_auprc = performance_val_r2['AUPRC'].max()\n",
    "performance_auprc = performance_val_r2[performance_val_r2['AUPRC']==max_auprc]"
   ]
  },
  {
   "cell_type": "raw",
   "id": "81c19051-0feb-4674-b444-d234a04713be",
   "metadata": {},
   "source": []
  },
  {
   "cell_type": "code",
   "execution_count": 3,
   "id": "871364f7-fa59-412f-bd21-f7f12e22a8cf",
   "metadata": {},
   "outputs": [
    {
     "name": "stderr",
     "output_type": "stream",
     "text": [
      "/tmp/ipykernel_21291/2620390729.py:15: SettingWithCopyWarning: \n",
      "A value is trying to be set on a copy of a slice from a DataFrame.\n",
      "Try using .loc[row_indexer,col_indexer] = value instead\n",
      "\n",
      "See the caveats in the documentation: https://pandas.pydata.org/pandas-docs/stable/user_guide/indexing.html#returning-a-view-versus-a-copy\n",
      "  performance_auprc['alpha'] = al\n",
      "/tmp/ipykernel_21291/2620390729.py:15: SettingWithCopyWarning: \n",
      "A value is trying to be set on a copy of a slice from a DataFrame.\n",
      "Try using .loc[row_indexer,col_indexer] = value instead\n",
      "\n",
      "See the caveats in the documentation: https://pandas.pydata.org/pandas-docs/stable/user_guide/indexing.html#returning-a-view-versus-a-copy\n",
      "  performance_auprc['alpha'] = al\n"
     ]
    },
    {
     "data": {
      "text/html": [
       "<div>\n",
       "<style scoped>\n",
       "    .dataframe tbody tr th:only-of-type {\n",
       "        vertical-align: middle;\n",
       "    }\n",
       "\n",
       "    .dataframe tbody tr th {\n",
       "        vertical-align: top;\n",
       "    }\n",
       "\n",
       "    .dataframe thead th {\n",
       "        text-align: right;\n",
       "    }\n",
       "</style>\n",
       "<table border=\"1\" class=\"dataframe\">\n",
       "  <thead>\n",
       "    <tr style=\"text-align: right;\">\n",
       "      <th></th>\n",
       "      <th>Unnamed: 0</th>\n",
       "      <th>network_type</th>\n",
       "      <th>cv</th>\n",
       "      <th>weight_decay</th>\n",
       "      <th>refit</th>\n",
       "      <th>num_train_ksr</th>\n",
       "      <th>num_test_ksr</th>\n",
       "      <th>AUPRC</th>\n",
       "      <th>AUROC</th>\n",
       "      <th>MCC</th>\n",
       "      <th>...</th>\n",
       "      <th>FP</th>\n",
       "      <th>FN</th>\n",
       "      <th>train_loss</th>\n",
       "      <th>val_loss</th>\n",
       "      <th>val_r2</th>\n",
       "      <th>activation</th>\n",
       "      <th>drop_p_prior</th>\n",
       "      <th>drop_p_kki</th>\n",
       "      <th>drop_p_ksr</th>\n",
       "      <th>alpha</th>\n",
       "    </tr>\n",
       "  </thead>\n",
       "  <tbody>\n",
       "    <tr>\n",
       "      <th>0</th>\n",
       "      <td>218</td>\n",
       "      <td>cpd</td>\n",
       "      <td>2</td>\n",
       "      <td>1.000000e-07</td>\n",
       "      <td>9.0</td>\n",
       "      <td>74575</td>\n",
       "      <td>18486</td>\n",
       "      <td>0.200203</td>\n",
       "      <td>0.607511</td>\n",
       "      <td>0.142153</td>\n",
       "      <td>...</td>\n",
       "      <td>62839.0</td>\n",
       "      <td>8686.0</td>\n",
       "      <td>0.009463</td>\n",
       "      <td>0.010174</td>\n",
       "      <td>0.906568</td>\n",
       "      <td>ReLU0</td>\n",
       "      <td>0.05</td>\n",
       "      <td>0</td>\n",
       "      <td>0</td>\n",
       "      <td>0.7</td>\n",
       "    </tr>\n",
       "    <tr>\n",
       "      <th>1</th>\n",
       "      <td>374</td>\n",
       "      <td>cpd</td>\n",
       "      <td>4</td>\n",
       "      <td>1.000000e-07</td>\n",
       "      <td>NaN</td>\n",
       "      <td>74466</td>\n",
       "      <td>18595</td>\n",
       "      <td>0.205181</td>\n",
       "      <td>0.660502</td>\n",
       "      <td>0.185052</td>\n",
       "      <td>...</td>\n",
       "      <td>108017.0</td>\n",
       "      <td>4101.0</td>\n",
       "      <td>0.009662</td>\n",
       "      <td>0.008713</td>\n",
       "      <td>0.918393</td>\n",
       "      <td>ReLU0</td>\n",
       "      <td>0.05</td>\n",
       "      <td>0</td>\n",
       "      <td>0</td>\n",
       "      <td>0.8</td>\n",
       "    </tr>\n",
       "  </tbody>\n",
       "</table>\n",
       "<p>2 rows × 24 columns</p>\n",
       "</div>"
      ],
      "text/plain": [
       "   Unnamed: 0 network_type  cv  weight_decay  refit  num_train_ksr  \\\n",
       "0         218          cpd   2  1.000000e-07    9.0          74575   \n",
       "1         374          cpd   4  1.000000e-07    NaN          74466   \n",
       "\n",
       "   num_test_ksr     AUPRC     AUROC       MCC  ...        FP      FN  \\\n",
       "0         18486  0.200203  0.607511  0.142153  ...   62839.0  8686.0   \n",
       "1         18595  0.205181  0.660502  0.185052  ...  108017.0  4101.0   \n",
       "\n",
       "   train_loss  val_loss    val_r2  activation  drop_p_prior  drop_p_kki  \\\n",
       "0    0.009463  0.010174  0.906568       ReLU0          0.05           0   \n",
       "1    0.009662  0.008713  0.918393       ReLU0          0.05           0   \n",
       "\n",
       "   drop_p_ksr alpha  \n",
       "0           0   0.7  \n",
       "1           0   0.8  \n",
       "\n",
       "[2 rows x 24 columns]"
      ]
     },
     "execution_count": 3,
     "metadata": {},
     "output_type": "execute_result"
    }
   ],
   "source": [
    "alpha = [0.6,0.7,0.8]\n",
    "# 构建文件路径\n",
    "dp_name = \"dp1_0.05_dp2_0\"\n",
    "dp_best = []\n",
    "for al in alpha:\n",
    "    PATH = f\"result_LA_alpha_{al}\"\n",
    "    path = os.path.join(PATH,dp_name,'performance_tmp.csv')\n",
    "    performance = pd.read_csv(path)\n",
    "    # 优先满足val_r2的值, 即val_r2要最大\n",
    "    max_val_r2 = performance['val_r2'].max()\n",
    "    performance_val_r2 = performance[performance['val_r2']==max_val_r2]\n",
    "    # 其次满足auprc最大\n",
    "    max_auprc = performance_val_r2['AUPRC'].max()\n",
    "    performance_auprc = performance_val_r2[performance_val_r2['AUPRC']==max_auprc]\n",
    "    performance_auprc['alpha'] = al\n",
    "    dp_best.append(performance_auprc)\n",
    "    \n",
    "    dp_best_df = pd.concat(dp_best, ignore_index=True)\n",
    "\n",
    "dp_best_df\n",
    "# # 存储到一个新的 CSV 文件中\n",
    "# output_path = os.path.join(PATH, 'dp_best.csv')\n",
    "# dp_best.to_csv(output_path, index=False)"
   ]
  },
  {
   "cell_type": "code",
   "execution_count": 8,
   "id": "6c0ab838-4e10-4fda-83c9-78c71beb44a0",
   "metadata": {},
   "outputs": [
    {
     "data": {
      "image/png": "[encoded data removed]",
      "text/plain": [
       "<Figure size 800x600 with 1 Axes>"
      ]
     },
     "metadata": {},
     "output_type": "display_data"
    }
   ],
   "source": [
    "val_r2 = dp_best_df['val_r2']\n",
    "auprc = dp_best_df['AUPRC']\n",
    "alpha = dp_best_df['alpha']\n",
    "\n",
    "plt.figure(figsize=(8, 6))\n",
    "bar_width = 0.2 \n",
    "\n",
    "x = range(len(alpha))\n",
    "plt.bar(x, val_r2, width=bar_width, label='R2')\n",
    "plt.bar([i + bar_width for i in x], auprc, width=bar_width, label='AUPRC')\n",
    "\n",
    "# 添加标签\n",
    "plt.xlabel('Alpha (Hyperparameter)', fontsize=12)\n",
    "plt.ylabel('Scores', fontsize=12)\n",
    "plt.title('Validation Scores (val_r2 & AUPRC) for Different Alphas', fontsize=14)\n",
    "plt.xticks([i + bar_width / 2 for i in x], alpha)\n",
    "plt.legend()\n",
    "\n",
    "# 显示图表\n",
    "plt.tight_layout()\n",
    "plt.show()"
   ]
  }
 ],
 "metadata": {
  "kernelspec": {
   "display_name": "Python 3 (ipykernel)",
   "language": "python",
   "name": "python3"
  },
  "language_info": {
   "codemirror_mode": {
    "name": "ipython",
    "version": 3
   },
   "file_extension": ".py",
   "mimetype": "text/x-python",
   "name": "python",
   "nbconvert_exporter": "python",
   "pygments_lexer": "ipython3",
   "version": "3.10.15"
  }
 },
 "nbformat": 4,
 "nbformat_minor": 5
}
