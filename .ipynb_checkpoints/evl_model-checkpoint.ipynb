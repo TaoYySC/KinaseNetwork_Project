{
 "cells": [
  {
   "cell_type": "code",
   "execution_count": 21,
   "id": "cfe09a46-d234-40c5-983b-ee4dbaed7f71",
   "metadata": {},
   "outputs": [],
   "source": [
    "import matplotlib.pyplot as plt\n",
    "import pandas as pd\n",
    "import numpy as np\n",
    "import os"
   ]
  },
  {
   "cell_type": "code",
   "execution_count": 25,
   "id": "1cc9228b-0520-4a42-8053-f1f109614493",
   "metadata": {},
   "outputs": [],
   "source": [
    "percentile_list = [60,70,75,80,90]\n",
    "alpha_list = [0.6,0.7,0.75,0.8,0.9]\n",
    "percentile_default = 75\n",
    "alpha_default = 0.75\n",
    "\n",
    "dp_name = \"dp1_0.05_dp2_0\"\n",
    "performance_file_name = \"performance_tmp.csv\"\n",
    "output_path = \"best_pref\""
   ]
  },
  {
   "cell_type": "code",
   "execution_count": 27,
   "id": "78d0b6d5-47b7-4043-b6d7-42d46b1f5be2",
   "metadata": {
    "scrolled": true
   },
   "outputs": [],
   "source": [
    "# 先查看不同的percentile对模型性能的影响\n",
    "for percentile in percentile_list:\n",
    "    path = f\"result_LA_percentile_{percentile}_alpha_{alpha_default}\"\n",
    "    path_performance = os.path.join(path,dp_name,performance_file_name)\n",
    "    performance = pd.read_csv(path_performance)\n",
    "    performance = performance[(performance['network_type'] == 'cpd')]\n",
    "    performance.index = range(performance.shape[0])\n",
    "    report_df = performance[['weight_decay', 'drop_p_prior', 'drop_p_kki', 'cv']].drop_duplicates().copy()\n",
    "    report_df.index = range(report_df.shape[0])\n",
    "    report_df['AUPRC'] = 0.0\n",
    "    report_df['R2'] = 0.0\n",
    "    for index, row in report_df.iterrows():\n",
    "        tmp = performance.loc[(performance['weight_decay'] == row['weight_decay'])&\\\n",
    "                            (performance['drop_p_prior'] == row['drop_p_prior'])&\\\n",
    "                            (performance['drop_p_kki'] == row['drop_p_kki'])&\\\n",
    "                            (performance['cv'] == row['cv'])]\n",
    "        max_r2_row = tmp.loc[tmp['val_r2'].idxmax()]\n",
    "        report_df.at[index,'AUPRC'] = max_r2_row['AUPRC']\n",
    "        report_df.at[index,'R2'] = max_r2_row['val_r2']\n",
    "    report_df_group = report_df.groupby(['weight_decay', 'drop_p_prior', \"drop_p_kki\"])[['AUPRC', 'R2']].mean()\n",
    "    output = os.path.join(output_path,f\"percentile_{percentile}.csv\")\n",
    "    report_df_group.to_csv(output)\n",
    "        \n",
    "    "
   ]
  },
  {
   "cell_type": "code",
   "execution_count": 28,
   "id": "9428be05-eb66-459f-b8dd-3b3a9dad333b",
   "metadata": {},
   "outputs": [],
   "source": [
    "# 再查看不同的apha对模型性能的影响\n",
    "for alpha in alpha_list:\n",
    "    path = f\"result_LA_percentile_{percentile_default}_alpha_{alpha}\"\n",
    "    path_performance = os.path.join(path,dp_name,performance_file_name)\n",
    "    performance = pd.read_csv(path_performance)\n",
    "    performance = performance[(performance['network_type'] == 'cpd')]\n",
    "    performance.index = range(performance.shape[0])\n",
    "    report_df = performance[['weight_decay', 'drop_p_prior', 'drop_p_kki', 'cv']].drop_duplicates().copy()\n",
    "    report_df.index = range(report_df.shape[0])\n",
    "    report_df['AUPRC'] = 0.0\n",
    "    report_df['R2'] = 0.0\n",
    "    for index, row in report_df.iterrows():\n",
    "        tmp = performance.loc[(performance['weight_decay'] == row['weight_decay'])&\\\n",
    "                            (performance['drop_p_prior'] == row['drop_p_prior'])&\\\n",
    "                            (performance['drop_p_kki'] == row['drop_p_kki'])&\\\n",
    "                            (performance['cv'] == row['cv'])]\n",
    "        max_r2_row = tmp.loc[tmp['val_r2'].idxmax()]\n",
    "        report_df.at[index,'AUPRC'] = max_r2_row['AUPRC']\n",
    "        report_df.at[index,'R2'] = max_r2_row['val_r2']\n",
    "    report_df_group = report_df.groupby(['weight_decay', 'drop_p_prior', \"drop_p_kki\"])[['AUPRC', 'R2']].mean()\n",
    "    output = os.path.join(output_path,f\"alpha_{alpha}.csv\")\n",
    "    report_df_group.to_csv(output)\n",
    " "
   ]
  }
 ],
 "metadata": {
  "kernelspec": {
   "display_name": "Python 3 (ipykernel)",
   "language": "python",
   "name": "python3"
  },
  "language_info": {
   "codemirror_mode": {
    "name": "ipython",
    "version": 3
   },
   "file_extension": ".py",
   "mimetype": "text/x-python",
   "name": "python",
   "nbconvert_exporter": "python",
   "pygments_lexer": "ipython3",
   "version": "3.9.20"
  }
 },
 "nbformat": 4,
 "nbformat_minor": 5
}
